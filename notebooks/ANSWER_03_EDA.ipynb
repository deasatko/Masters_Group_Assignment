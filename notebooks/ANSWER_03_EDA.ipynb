{
 "cells": [
  {
   "cell_type": "markdown",
   "id": "f5493823-a7d2-4674-8755-26574ee32cf4",
   "metadata": {},
   "source": [
    "# Exploratory Data Analysis"
   ]
  },
  {
   "cell_type": "markdown",
   "id": "60998227-4eef-465b-b0e1-c879be66bd16",
   "metadata": {},
   "source": [
    "## Reading the csv and displaying 10 records to see how the data looks"
   ]
  },
  {
   "cell_type": "code",
   "execution_count": 4,
   "id": "20916188-a06a-47e4-a54d-48c8fff333aa",
   "metadata": {},
   "outputs": [
    {
     "data": {
      "text/html": [
       "<div>\n",
       "<style scoped>\n",
       "    .dataframe tbody tr th:only-of-type {\n",
       "        vertical-align: middle;\n",
       "    }\n",
       "\n",
       "    .dataframe tbody tr th {\n",
       "        vertical-align: top;\n",
       "    }\n",
       "\n",
       "    .dataframe thead th {\n",
       "        text-align: right;\n",
       "    }\n",
       "</style>\n",
       "<table border=\"1\" class=\"dataframe\">\n",
       "  <thead>\n",
       "    <tr style=\"text-align: right;\">\n",
       "      <th></th>\n",
       "      <th>Unnamed: 0</th>\n",
       "      <th>name</th>\n",
       "      <th>main_category</th>\n",
       "      <th>sub_category</th>\n",
       "      <th>ratings</th>\n",
       "      <th>no_of_ratings</th>\n",
       "      <th>discount_price</th>\n",
       "      <th>actual_price</th>\n",
       "    </tr>\n",
       "  </thead>\n",
       "  <tbody>\n",
       "    <tr>\n",
       "      <th>0</th>\n",
       "      <td>0</td>\n",
       "      <td>Lloyd 1.5 Ton 3 Star Inverter Split Ac (5 In 1...</td>\n",
       "      <td>appliances</td>\n",
       "      <td>Air Conditioners</td>\n",
       "      <td>4.2</td>\n",
       "      <td>2,255</td>\n",
       "      <td>₹32,999</td>\n",
       "      <td>₹58,990</td>\n",
       "    </tr>\n",
       "    <tr>\n",
       "      <th>1</th>\n",
       "      <td>1</td>\n",
       "      <td>LG 1.5 Ton 5 Star AI DUAL Inverter Split AC (C...</td>\n",
       "      <td>appliances</td>\n",
       "      <td>Air Conditioners</td>\n",
       "      <td>4.2</td>\n",
       "      <td>2,948</td>\n",
       "      <td>₹46,490</td>\n",
       "      <td>₹75,990</td>\n",
       "    </tr>\n",
       "    <tr>\n",
       "      <th>2</th>\n",
       "      <td>2</td>\n",
       "      <td>LG 1 Ton 4 Star Ai Dual Inverter Split Ac (Cop...</td>\n",
       "      <td>appliances</td>\n",
       "      <td>Air Conditioners</td>\n",
       "      <td>4.2</td>\n",
       "      <td>1,206</td>\n",
       "      <td>₹34,490</td>\n",
       "      <td>₹61,990</td>\n",
       "    </tr>\n",
       "    <tr>\n",
       "      <th>3</th>\n",
       "      <td>3</td>\n",
       "      <td>LG 1.5 Ton 3 Star AI DUAL Inverter Split AC (C...</td>\n",
       "      <td>appliances</td>\n",
       "      <td>Air Conditioners</td>\n",
       "      <td>4.0</td>\n",
       "      <td>69</td>\n",
       "      <td>₹37,990</td>\n",
       "      <td>₹68,990</td>\n",
       "    </tr>\n",
       "    <tr>\n",
       "      <th>4</th>\n",
       "      <td>4</td>\n",
       "      <td>Carrier 1.5 Ton 3 Star Inverter Split AC (Copp...</td>\n",
       "      <td>appliances</td>\n",
       "      <td>Air Conditioners</td>\n",
       "      <td>4.1</td>\n",
       "      <td>630</td>\n",
       "      <td>₹34,490</td>\n",
       "      <td>₹67,790</td>\n",
       "    </tr>\n",
       "    <tr>\n",
       "      <th>5</th>\n",
       "      <td>5</td>\n",
       "      <td>Voltas 1.4 Ton 3 Star Inverter Split AC(Copper...</td>\n",
       "      <td>appliances</td>\n",
       "      <td>Air Conditioners</td>\n",
       "      <td>4.0</td>\n",
       "      <td>1,666</td>\n",
       "      <td>₹31,990</td>\n",
       "      <td>₹70,990</td>\n",
       "    </tr>\n",
       "    <tr>\n",
       "      <th>6</th>\n",
       "      <td>6</td>\n",
       "      <td>Lloyd 1.0 Ton 3 Star Inverter Split Ac (5 In 1...</td>\n",
       "      <td>appliances</td>\n",
       "      <td>Air Conditioners</td>\n",
       "      <td>4.2</td>\n",
       "      <td>1,097</td>\n",
       "      <td>₹29,999</td>\n",
       "      <td>₹49,990</td>\n",
       "    </tr>\n",
       "    <tr>\n",
       "      <th>7</th>\n",
       "      <td>7</td>\n",
       "      <td>Lloyd 1.5 Ton 5 Star Inverter Split Ac (5 In 1...</td>\n",
       "      <td>appliances</td>\n",
       "      <td>Air Conditioners</td>\n",
       "      <td>4.3</td>\n",
       "      <td>1,494</td>\n",
       "      <td>₹39,990</td>\n",
       "      <td>₹67,990</td>\n",
       "    </tr>\n",
       "    <tr>\n",
       "      <th>8</th>\n",
       "      <td>8</td>\n",
       "      <td>Carrier 1 Ton 3 Star AI Flexicool Inverter Spl...</td>\n",
       "      <td>appliances</td>\n",
       "      <td>Air Conditioners</td>\n",
       "      <td>4.1</td>\n",
       "      <td>674</td>\n",
       "      <td>₹30,990</td>\n",
       "      <td>₹58,190</td>\n",
       "    </tr>\n",
       "    <tr>\n",
       "      <th>9</th>\n",
       "      <td>9</td>\n",
       "      <td>Voltas 1.5 Ton, 5 Star, Inverter Split AC(Copp...</td>\n",
       "      <td>appliances</td>\n",
       "      <td>Air Conditioners</td>\n",
       "      <td>4.0</td>\n",
       "      <td>801</td>\n",
       "      <td>₹37,999</td>\n",
       "      <td>₹73,990</td>\n",
       "    </tr>\n",
       "  </tbody>\n",
       "</table>\n",
       "</div>"
      ],
      "text/plain": [
       "   Unnamed: 0                                               name  \\\n",
       "0           0  Lloyd 1.5 Ton 3 Star Inverter Split Ac (5 In 1...   \n",
       "1           1  LG 1.5 Ton 5 Star AI DUAL Inverter Split AC (C...   \n",
       "2           2  LG 1 Ton 4 Star Ai Dual Inverter Split Ac (Cop...   \n",
       "3           3  LG 1.5 Ton 3 Star AI DUAL Inverter Split AC (C...   \n",
       "4           4  Carrier 1.5 Ton 3 Star Inverter Split AC (Copp...   \n",
       "5           5  Voltas 1.4 Ton 3 Star Inverter Split AC(Copper...   \n",
       "6           6  Lloyd 1.0 Ton 3 Star Inverter Split Ac (5 In 1...   \n",
       "7           7  Lloyd 1.5 Ton 5 Star Inverter Split Ac (5 In 1...   \n",
       "8           8  Carrier 1 Ton 3 Star AI Flexicool Inverter Spl...   \n",
       "9           9  Voltas 1.5 Ton, 5 Star, Inverter Split AC(Copp...   \n",
       "\n",
       "  main_category      sub_category ratings no_of_ratings discount_price  \\\n",
       "0    appliances  Air Conditioners     4.2         2,255        ₹32,999   \n",
       "1    appliances  Air Conditioners     4.2         2,948        ₹46,490   \n",
       "2    appliances  Air Conditioners     4.2         1,206        ₹34,490   \n",
       "3    appliances  Air Conditioners     4.0            69        ₹37,990   \n",
       "4    appliances  Air Conditioners     4.1           630        ₹34,490   \n",
       "5    appliances  Air Conditioners     4.0         1,666        ₹31,990   \n",
       "6    appliances  Air Conditioners     4.2         1,097        ₹29,999   \n",
       "7    appliances  Air Conditioners     4.3         1,494        ₹39,990   \n",
       "8    appliances  Air Conditioners     4.1           674        ₹30,990   \n",
       "9    appliances  Air Conditioners     4.0           801        ₹37,999   \n",
       "\n",
       "  actual_price  \n",
       "0      ₹58,990  \n",
       "1      ₹75,990  \n",
       "2      ₹61,990  \n",
       "3      ₹68,990  \n",
       "4      ₹67,790  \n",
       "5      ₹70,990  \n",
       "6      ₹49,990  \n",
       "7      ₹67,990  \n",
       "8      ₹58,190  \n",
       "9      ₹73,990  "
      ]
     },
     "execution_count": 4,
     "metadata": {},
     "output_type": "execute_result"
    }
   ],
   "source": [
    "import pandas as pd\n",
    "data = pd.read_csv('../data/original_data.csv')\n",
    "data.head(10)  "
   ]
  },
  {
   "cell_type": "markdown",
   "id": "6edd1497-8812-4c49-9503-51f325ede322",
   "metadata": {},
   "source": [
    "***Observation*** From the above table we can see that the table or data has a 2 index columns. Removing one of them and saving the data"
   ]
  },
  {
   "cell_type": "code",
   "execution_count": 6,
   "id": "3267cfb8-d84e-4bdb-9fca-c1a100b2ab5b",
   "metadata": {},
   "outputs": [
    {
     "data": {
      "text/html": [
       "<div>\n",
       "<style scoped>\n",
       "    .dataframe tbody tr th:only-of-type {\n",
       "        vertical-align: middle;\n",
       "    }\n",
       "\n",
       "    .dataframe tbody tr th {\n",
       "        vertical-align: top;\n",
       "    }\n",
       "\n",
       "    .dataframe thead th {\n",
       "        text-align: right;\n",
       "    }\n",
       "</style>\n",
       "<table border=\"1\" class=\"dataframe\">\n",
       "  <thead>\n",
       "    <tr style=\"text-align: right;\">\n",
       "      <th></th>\n",
       "      <th>name</th>\n",
       "      <th>main_category</th>\n",
       "      <th>sub_category</th>\n",
       "      <th>ratings</th>\n",
       "      <th>no_of_ratings</th>\n",
       "      <th>discount_price</th>\n",
       "      <th>actual_price</th>\n",
       "    </tr>\n",
       "  </thead>\n",
       "  <tbody>\n",
       "    <tr>\n",
       "      <th>0</th>\n",
       "      <td>Lloyd 1.5 Ton 3 Star Inverter Split Ac (5 In 1...</td>\n",
       "      <td>appliances</td>\n",
       "      <td>Air Conditioners</td>\n",
       "      <td>4.2</td>\n",
       "      <td>2,255</td>\n",
       "      <td>₹32,999</td>\n",
       "      <td>₹58,990</td>\n",
       "    </tr>\n",
       "    <tr>\n",
       "      <th>1</th>\n",
       "      <td>LG 1.5 Ton 5 Star AI DUAL Inverter Split AC (C...</td>\n",
       "      <td>appliances</td>\n",
       "      <td>Air Conditioners</td>\n",
       "      <td>4.2</td>\n",
       "      <td>2,948</td>\n",
       "      <td>₹46,490</td>\n",
       "      <td>₹75,990</td>\n",
       "    </tr>\n",
       "    <tr>\n",
       "      <th>2</th>\n",
       "      <td>LG 1 Ton 4 Star Ai Dual Inverter Split Ac (Cop...</td>\n",
       "      <td>appliances</td>\n",
       "      <td>Air Conditioners</td>\n",
       "      <td>4.2</td>\n",
       "      <td>1,206</td>\n",
       "      <td>₹34,490</td>\n",
       "      <td>₹61,990</td>\n",
       "    </tr>\n",
       "    <tr>\n",
       "      <th>3</th>\n",
       "      <td>LG 1.5 Ton 3 Star AI DUAL Inverter Split AC (C...</td>\n",
       "      <td>appliances</td>\n",
       "      <td>Air Conditioners</td>\n",
       "      <td>4.0</td>\n",
       "      <td>69</td>\n",
       "      <td>₹37,990</td>\n",
       "      <td>₹68,990</td>\n",
       "    </tr>\n",
       "    <tr>\n",
       "      <th>4</th>\n",
       "      <td>Carrier 1.5 Ton 3 Star Inverter Split AC (Copp...</td>\n",
       "      <td>appliances</td>\n",
       "      <td>Air Conditioners</td>\n",
       "      <td>4.1</td>\n",
       "      <td>630</td>\n",
       "      <td>₹34,490</td>\n",
       "      <td>₹67,790</td>\n",
       "    </tr>\n",
       "    <tr>\n",
       "      <th>5</th>\n",
       "      <td>Voltas 1.4 Ton 3 Star Inverter Split AC(Copper...</td>\n",
       "      <td>appliances</td>\n",
       "      <td>Air Conditioners</td>\n",
       "      <td>4.0</td>\n",
       "      <td>1,666</td>\n",
       "      <td>₹31,990</td>\n",
       "      <td>₹70,990</td>\n",
       "    </tr>\n",
       "    <tr>\n",
       "      <th>6</th>\n",
       "      <td>Lloyd 1.0 Ton 3 Star Inverter Split Ac (5 In 1...</td>\n",
       "      <td>appliances</td>\n",
       "      <td>Air Conditioners</td>\n",
       "      <td>4.2</td>\n",
       "      <td>1,097</td>\n",
       "      <td>₹29,999</td>\n",
       "      <td>₹49,990</td>\n",
       "    </tr>\n",
       "    <tr>\n",
       "      <th>7</th>\n",
       "      <td>Lloyd 1.5 Ton 5 Star Inverter Split Ac (5 In 1...</td>\n",
       "      <td>appliances</td>\n",
       "      <td>Air Conditioners</td>\n",
       "      <td>4.3</td>\n",
       "      <td>1,494</td>\n",
       "      <td>₹39,990</td>\n",
       "      <td>₹67,990</td>\n",
       "    </tr>\n",
       "    <tr>\n",
       "      <th>8</th>\n",
       "      <td>Carrier 1 Ton 3 Star AI Flexicool Inverter Spl...</td>\n",
       "      <td>appliances</td>\n",
       "      <td>Air Conditioners</td>\n",
       "      <td>4.1</td>\n",
       "      <td>674</td>\n",
       "      <td>₹30,990</td>\n",
       "      <td>₹58,190</td>\n",
       "    </tr>\n",
       "    <tr>\n",
       "      <th>9</th>\n",
       "      <td>Voltas 1.5 Ton, 5 Star, Inverter Split AC(Copp...</td>\n",
       "      <td>appliances</td>\n",
       "      <td>Air Conditioners</td>\n",
       "      <td>4.0</td>\n",
       "      <td>801</td>\n",
       "      <td>₹37,999</td>\n",
       "      <td>₹73,990</td>\n",
       "    </tr>\n",
       "  </tbody>\n",
       "</table>\n",
       "</div>"
      ],
      "text/plain": [
       "                                                name main_category  \\\n",
       "0  Lloyd 1.5 Ton 3 Star Inverter Split Ac (5 In 1...    appliances   \n",
       "1  LG 1.5 Ton 5 Star AI DUAL Inverter Split AC (C...    appliances   \n",
       "2  LG 1 Ton 4 Star Ai Dual Inverter Split Ac (Cop...    appliances   \n",
       "3  LG 1.5 Ton 3 Star AI DUAL Inverter Split AC (C...    appliances   \n",
       "4  Carrier 1.5 Ton 3 Star Inverter Split AC (Copp...    appliances   \n",
       "5  Voltas 1.4 Ton 3 Star Inverter Split AC(Copper...    appliances   \n",
       "6  Lloyd 1.0 Ton 3 Star Inverter Split Ac (5 In 1...    appliances   \n",
       "7  Lloyd 1.5 Ton 5 Star Inverter Split Ac (5 In 1...    appliances   \n",
       "8  Carrier 1 Ton 3 Star AI Flexicool Inverter Spl...    appliances   \n",
       "9  Voltas 1.5 Ton, 5 Star, Inverter Split AC(Copp...    appliances   \n",
       "\n",
       "       sub_category ratings no_of_ratings discount_price actual_price  \n",
       "0  Air Conditioners     4.2         2,255        ₹32,999      ₹58,990  \n",
       "1  Air Conditioners     4.2         2,948        ₹46,490      ₹75,990  \n",
       "2  Air Conditioners     4.2         1,206        ₹34,490      ₹61,990  \n",
       "3  Air Conditioners     4.0            69        ₹37,990      ₹68,990  \n",
       "4  Air Conditioners     4.1           630        ₹34,490      ₹67,790  \n",
       "5  Air Conditioners     4.0         1,666        ₹31,990      ₹70,990  \n",
       "6  Air Conditioners     4.2         1,097        ₹29,999      ₹49,990  \n",
       "7  Air Conditioners     4.3         1,494        ₹39,990      ₹67,990  \n",
       "8  Air Conditioners     4.1           674        ₹30,990      ₹58,190  \n",
       "9  Air Conditioners     4.0           801        ₹37,999      ₹73,990  "
      ]
     },
     "execution_count": 6,
     "metadata": {},
     "output_type": "execute_result"
    }
   ],
   "source": [
    "data = pd.read_csv('../data/original_data.csv', index_col=0)\n",
    "data.reset_index(drop=True, inplace=True)\n",
    "data.head(10)"
   ]
  },
  {
   "cell_type": "markdown",
   "id": "371fbe10-cae5-4cd4-a831-84f5fe73b629",
   "metadata": {},
   "source": [
    "### Checking the number of records and the column names"
   ]
  },
  {
   "cell_type": "code",
   "execution_count": 13,
   "id": "2f4a29f1-6674-48ce-88f0-e8636a312982",
   "metadata": {},
   "outputs": [
    {
     "data": {
      "text/plain": [
       "(551585, 7)"
      ]
     },
     "execution_count": 13,
     "metadata": {},
     "output_type": "execute_result"
    }
   ],
   "source": [
    "data.shape"
   ]
  },
  {
   "cell_type": "code",
   "execution_count": 14,
   "id": "d2a1574e-daa7-42ad-9240-b94a65d683ed",
   "metadata": {},
   "outputs": [
    {
     "data": {
      "text/plain": [
       "array(['name', 'main_category', 'sub_category', 'ratings',\n",
       "       'no_of_ratings', 'discount_price', 'actual_price'], dtype=object)"
      ]
     },
     "execution_count": 14,
     "metadata": {},
     "output_type": "execute_result"
    }
   ],
   "source": [
    "data.columns.values"
   ]
  },
  {
   "cell_type": "code",
   "execution_count": 15,
   "id": "236c4d33-65c8-48d2-9008-b494e20db1d0",
   "metadata": {},
   "outputs": [
    {
     "name": "stdout",
     "output_type": "stream",
     "text": [
      "<class 'pandas.core.frame.DataFrame'>\n",
      "RangeIndex: 551585 entries, 0 to 551584\n",
      "Data columns (total 7 columns):\n",
      " #   Column          Non-Null Count   Dtype \n",
      "---  ------          --------------   ----- \n",
      " 0   name            551585 non-null  object\n",
      " 1   main_category   551585 non-null  object\n",
      " 2   sub_category    551585 non-null  object\n",
      " 3   ratings         375791 non-null  object\n",
      " 4   no_of_ratings   375791 non-null  object\n",
      " 5   discount_price  490422 non-null  object\n",
      " 6   actual_price    533772 non-null  object\n",
      "dtypes: object(7)\n",
      "memory usage: 29.5+ MB\n"
     ]
    }
   ],
   "source": [
    "data.info()"
   ]
  },
  {
   "cell_type": "markdown",
   "id": "578c84b7-1c9e-4667-a903-e3e2d1776329",
   "metadata": {},
   "source": [
    "***Observations***\n",
    "* There are 551,585 rows and 7 columns.\n",
    "* All the columns are of 'object' data type. Here ***ratings***, ***no_of_ratings***, ***discount_price***, and ***actual_price*** can be of integer data type.\n",
    "* There are missing values in 'ratings', 'no_of_ratings', 'discount_price', and 'actual_price'.\n",
    "* All of these missing values must be handled."
   ]
  },
  {
   "cell_type": "markdown",
   "id": "f7925676-88a5-42d2-862e-05420cab0599",
   "metadata": {},
   "source": [
    "### Checking the statistics of the data "
   ]
  },
  {
   "cell_type": "code",
   "execution_count": 17,
   "id": "e1e36b52-1ac1-4ce3-957e-1d879e9cee82",
   "metadata": {},
   "outputs": [
    {
     "data": {
      "text/html": [
       "<div>\n",
       "<style scoped>\n",
       "    .dataframe tbody tr th:only-of-type {\n",
       "        vertical-align: middle;\n",
       "    }\n",
       "\n",
       "    .dataframe tbody tr th {\n",
       "        vertical-align: top;\n",
       "    }\n",
       "\n",
       "    .dataframe thead th {\n",
       "        text-align: right;\n",
       "    }\n",
       "</style>\n",
       "<table border=\"1\" class=\"dataframe\">\n",
       "  <thead>\n",
       "    <tr style=\"text-align: right;\">\n",
       "      <th></th>\n",
       "      <th>name</th>\n",
       "      <th>main_category</th>\n",
       "      <th>sub_category</th>\n",
       "      <th>ratings</th>\n",
       "      <th>no_of_ratings</th>\n",
       "      <th>discount_price</th>\n",
       "      <th>actual_price</th>\n",
       "    </tr>\n",
       "  </thead>\n",
       "  <tbody>\n",
       "    <tr>\n",
       "      <th>count</th>\n",
       "      <td>551585</td>\n",
       "      <td>551585</td>\n",
       "      <td>551585</td>\n",
       "      <td>375791</td>\n",
       "      <td>375791</td>\n",
       "      <td>490422</td>\n",
       "      <td>533772</td>\n",
       "    </tr>\n",
       "    <tr>\n",
       "      <th>unique</th>\n",
       "      <td>396210</td>\n",
       "      <td>20</td>\n",
       "      <td>112</td>\n",
       "      <td>49</td>\n",
       "      <td>8342</td>\n",
       "      <td>27511</td>\n",
       "      <td>23170</td>\n",
       "    </tr>\n",
       "    <tr>\n",
       "      <th>top</th>\n",
       "      <td>Zeya Yellow Gold Ring</td>\n",
       "      <td>accessories</td>\n",
       "      <td>Formal Shoes</td>\n",
       "      <td>4.0</td>\n",
       "      <td>1</td>\n",
       "      <td>₹499</td>\n",
       "      <td>₹999</td>\n",
       "    </tr>\n",
       "    <tr>\n",
       "      <th>freq</th>\n",
       "      <td>718</td>\n",
       "      <td>116141</td>\n",
       "      <td>19200</td>\n",
       "      <td>36609</td>\n",
       "      <td>39816</td>\n",
       "      <td>18248</td>\n",
       "      <td>48774</td>\n",
       "    </tr>\n",
       "  </tbody>\n",
       "</table>\n",
       "</div>"
      ],
      "text/plain": [
       "                         name main_category  sub_category ratings  \\\n",
       "count                  551585        551585        551585  375791   \n",
       "unique                 396210            20           112      49   \n",
       "top     Zeya Yellow Gold Ring   accessories  Formal Shoes     4.0   \n",
       "freq                      718        116141         19200   36609   \n",
       "\n",
       "       no_of_ratings discount_price actual_price  \n",
       "count         375791         490422       533772  \n",
       "unique          8342          27511        23170  \n",
       "top                1           ₹499         ₹999  \n",
       "freq           39816          18248        48774  "
      ]
     },
     "execution_count": 17,
     "metadata": {},
     "output_type": "execute_result"
    }
   ],
   "source": [
    "data.describe()"
   ]
  },
  {
   "cell_type": "markdown",
   "id": "80234ef9-efda-4a02-8000-5421f0ed30cc",
   "metadata": {},
   "source": [
    "***Observations***\n",
    "* We can see only ***count***, ***unique***, ***top*** and ***freq*** because all the columns are of object type.\n",
    "* We have to change the data type to float to get the SD, mean, variance, mix, max and quartiles.\n",
    "* We could convert the object types to int or float but we will get error message beacuse of the string values present in the data."
   ]
  },
  {
   "cell_type": "markdown",
   "id": "2116e0bc-c61a-4e38-a677-bab2bf7d03cd",
   "metadata": {},
   "source": [
    "### Understanding the data "
   ]
  },
  {
   "cell_type": "code",
   "execution_count": 28,
   "id": "57fbab88-a12c-452a-97b1-ebe36ce3f217",
   "metadata": {},
   "outputs": [
    {
     "data": {
      "text/plain": [
       "array(['4.2', '4.0', '4.1', '4.3', '3.9', '3.8', '3.5', nan, '4.6', '3.3',\n",
       "       '3.4', '3.7', '2.9', '5.0', '4.4', '3.6', '2.7', '4.5', '3.0',\n",
       "       '3.1', '3.2', '4.8', '4.7', '2.5', '1.0', '2.6', '2.8', '2.3',\n",
       "       '1.7', 'Get', '1.8', '2.4', '4.9', '2.2', '1.6', '1.9', '2.0',\n",
       "       '1.4', '2.1', 'FREE', '1.2', '1.3', '1.5', '₹68.99', '₹65', '1.1',\n",
       "       '₹70', '₹100', '₹99', '₹2.99'], dtype=object)"
      ]
     },
     "execution_count": 28,
     "metadata": {},
     "output_type": "execute_result"
    }
   ],
   "source": [
    "data.ratings.unique()"
   ]
  },
  {
   "cell_type": "code",
   "execution_count": 29,
   "id": "63bade37-adda-431f-a932-8d269240e842",
   "metadata": {},
   "outputs": [
    {
     "data": {
      "text/plain": [
       "array(['2,255', '2,948', '1,206', ..., '3,329', '7,141', '4,406'],\n",
       "      dtype=object)"
      ]
     },
     "execution_count": 29,
     "metadata": {},
     "output_type": "execute_result"
    }
   ],
   "source": [
    "data.no_of_ratings.unique()"
   ]
  },
  {
   "cell_type": "code",
   "execution_count": 30,
   "id": "c489c6b9-6671-4118-9973-6a36471ecb6f",
   "metadata": {},
   "outputs": [
    {
     "data": {
      "text/plain": [
       "array(['₹32,999', '₹46,490', '₹34,490', ..., '₹3,712.10', '₹1,429.60',\n",
       "       '₹651.01'], dtype=object)"
      ]
     },
     "execution_count": 30,
     "metadata": {},
     "output_type": "execute_result"
    }
   ],
   "source": [
    "data.discount_price.unique()"
   ]
  },
  {
   "cell_type": "code",
   "execution_count": 31,
   "id": "d399a094-e242-4f02-9410-c9d6d039099c",
   "metadata": {},
   "outputs": [
    {
     "data": {
      "text/plain": [
       "array(['₹58,990', '₹75,990', '₹61,990', ..., '₹608.97', '₹4,792',\n",
       "       '₹8,023.60'], dtype=object)"
      ]
     },
     "execution_count": 31,
     "metadata": {},
     "output_type": "execute_result"
    }
   ],
   "source": [
    "data.actual_price.unique()"
   ]
  },
  {
   "cell_type": "markdown",
   "id": "9c3d54a2-ab75-4be5-ba6c-4b7fb1952d22",
   "metadata": {},
   "source": [
    "***Observations***\n",
    "* We can see that there are ***NAN values***, ***missing values***, ***get***, ***free*** and ***rupee symbol***.\n",
    "* These has to be handled before analysing the data.\n",
    "* Here the rating ranges from 1 - 5, where 1 being the least and 5 being the highest.\n",
    "* In this data the minimum rating is 1.1 and the maximum is 5.0"
   ]
  },
  {
   "cell_type": "code",
   "execution_count": 22,
   "id": "c2394609-9bc9-4260-b818-8ebe2fe70fcb",
   "metadata": {},
   "outputs": [
    {
     "data": {
      "text/plain": [
       "ratings\n",
       "4.0       36609\n",
       "5.0       32875\n",
       "3.9       27095\n",
       "3.8       25305\n",
       "4.1       24810\n",
       "3.7       22190\n",
       "4.2       21714\n",
       "3.6       19482\n",
       "4.3       17601\n",
       "3.5       17595\n",
       "4.4       13809\n",
       "3.4       13006\n",
       "4.5       12618\n",
       "3.0       11797\n",
       "3.3       10905\n",
       "4.6        8348\n",
       "3.2        8169\n",
       "1.0        8120\n",
       "3.1        6515\n",
       "4.7        5365\n",
       "Get        4852\n",
       "2.9        4139\n",
       "2.0        3133\n",
       "2.8        3044\n",
       "2.7        2523\n",
       "2.5        2423\n",
       "4.8        2343\n",
       "2.6        2000\n",
       "FREE       1357\n",
       "2.4        1253\n",
       "2.3         962\n",
       "2.2         761\n",
       "2.1         639\n",
       "4.9         521\n",
       "1.5         484\n",
       "1.9         358\n",
       "1.8         320\n",
       "1.7         225\n",
       "1.4         211\n",
       "1.6         171\n",
       "1.3          92\n",
       "1.2          27\n",
       "₹99          14\n",
       "₹70           5\n",
       "₹2.99         2\n",
       "1.1           1\n",
       "₹65           1\n",
       "₹68.99        1\n",
       "₹100          1\n",
       "Name: count, dtype: int64"
      ]
     },
     "execution_count": 22,
     "metadata": {},
     "output_type": "execute_result"
    }
   ],
   "source": [
    "data.ratings.value_counts()"
   ]
  },
  {
   "cell_type": "markdown",
   "id": "ae773b22-8b1b-450f-b14d-330f59bb6cb3",
   "metadata": {},
   "source": [
    "***Observations***\n",
    "* Most of the product are given 4 ratings out of 5 and it stands at the top of the list. So we can say that most of products that are sold in Amazon are in a good condition and the customers are satisfied.\n",
    "* Many product are given ratings between 3-5 out of 5. So we can say that most of the customers are statisfied.\n",
    "* We can also see that there are many products that are rated between 1-3. From this we can say that there are many product that customers did not like or not satisfied.\n",
    "* Since the number of high ratings is higher than the least ratings we can say that many products are worth buying but not all of them."
   ]
  },
  {
   "cell_type": "markdown",
   "id": "c32c8520-e2d1-4aa3-a8bd-bfcb1e650865",
   "metadata": {},
   "source": [
    "### Missing values"
   ]
  },
  {
   "cell_type": "code",
   "execution_count": 25,
   "id": "6560a363-5149-4e87-a527-113f7b30b0de",
   "metadata": {},
   "outputs": [
    {
     "data": {
      "text/plain": [
       "<Axes: >"
      ]
     },
     "execution_count": 25,
     "metadata": {},
     "output_type": "execute_result"
    },
    {
     "data": {
      "image/png": "[encoded data removed]",
      "text/plain": [
       "<Figure size 640x480 with 1 Axes>"
      ]
     },
     "metadata": {},
     "output_type": "display_data"
    }
   ],
   "source": [
    "import seaborn as sns\n",
    "sns.heatmap(data.isnull(),cbar=False,yticklabels=False)"
   ]
  },
  {
   "cell_type": "markdown",
   "id": "b5432752-3000-4254-9d64-4dac9b06ee0d",
   "metadata": {},
   "source": [
    "***Observations***\n",
    "* ***ratings*** and ***no_of_ratings*** has the most missing values.\n",
    "* ***ratings*** and ***no_of_ratings*** has same number of missing values and are missing the values or records are in the same row.\n",
    "* ***discount_price*** has less missing values when compared with ***ratings*** and ***no_of_ratings*** but has the more missing values than ***actual_price***.\n",
    "* ***actual_price*** has the least missing values.\n",
    "* ***discount_price*** and ***actual_price*** has missing values in the same position or row for few of the rows."
   ]
  },
  {
   "cell_type": "markdown",
   "id": "eef3ae72-8c7e-4100-8110-08b9792a9bb6",
   "metadata": {},
   "source": [
    "### Correlation"
   ]
  },
  {
   "cell_type": "markdown",
   "id": "1f0c0221-1e58-4d9a-9769-4bbee10bf776",
   "metadata": {},
   "source": [
    "Since the columns ***ratings***, ***no_of_ratings***, ***discount_price***, and ***actual_price*** are in object we will not be able to study the correlation or sd, variance, min and max. So changing the data type to check these."
   ]
  },
  {
   "cell_type": "markdown",
   "id": "e43c0437-3807-41da-a5bf-592a2df72294",
   "metadata": {},
   "source": [
    "Handling NULL values, string values in the columns and converting them into float data type."
   ]
  },
  {
   "cell_type": "markdown",
   "id": "9342267a-ecba-4f67-b467-4442e2812753",
   "metadata": {},
   "source": [
    "In the ***ratings*** columns there are string values like ₹100, get, free, etc. We cannot say the ratings here, if it is 1 or 0 or 5. So randonly assigning columns with mean value or  might give incorrect results or analysis. So removing those rows might help in this case. "
   ]
  },
  {
   "cell_type": "code",
   "execution_count": 41,
   "id": "6686ac13-6b23-4455-972f-be568a7185c7",
   "metadata": {},
   "outputs": [],
   "source": [
    "columns_to_convert = ['ratings']\n",
    "for column in columns_to_convert:\n",
    "    data[column] = pd.to_numeric(data[column], errors='coerce')"
   ]
  },
  {
   "cell_type": "code",
   "execution_count": 46,
   "id": "06964228-3c14-4a7d-9b90-941c93f42fa6",
   "metadata": {},
   "outputs": [
    {
     "name": "stdout",
     "output_type": "stream",
     "text": [
      "<class 'pandas.core.frame.DataFrame'>\n",
      "RangeIndex: 551585 entries, 0 to 551584\n",
      "Data columns (total 7 columns):\n",
      " #   Column          Non-Null Count   Dtype  \n",
      "---  ------          --------------   -----  \n",
      " 0   name            551585 non-null  object \n",
      " 1   main_category   551585 non-null  object \n",
      " 2   sub_category    551585 non-null  object \n",
      " 3   ratings         369558 non-null  float64\n",
      " 4   no_of_ratings   375791 non-null  object \n",
      " 5   discount_price  490422 non-null  object \n",
      " 6   actual_price    533772 non-null  object \n",
      "dtypes: float64(1), object(6)\n",
      "memory usage: 29.5+ MB\n"
     ]
    }
   ],
   "source": [
    "data.info()"
   ]
  },
  {
   "cell_type": "markdown",
   "id": "e3c872ed-1ec7-4c67-bfbf-6d4b8ab26667",
   "metadata": {},
   "source": [
    "From the above we can see that the datatype of ***ratings*** is now changed to float and the strings are replaced with NAN values"
   ]
  },
  {
   "cell_type": "markdown",
   "id": "a593bd96-f0a9-4477-9732-fd39a1f03b6a",
   "metadata": {},
   "source": [
    "Applying the same concept to the other columns"
   ]
  },
  {
   "cell_type": "markdown",
   "id": "9d280acc-a699-417a-bf23-b166819e594c",
   "metadata": {},
   "source": [
    "We can find many strings like 'Usually diaplatched in 5 to 6 days', 'Only 1 left in stock' and so on.\n",
    "Replacing all those and then converting the column to float."
   ]
  },
  {
   "cell_type": "code",
   "execution_count": 75,
   "id": "182bf422-3e8a-45e6-a7e2-7fb75d0d4629",
   "metadata": {},
   "outputs": [],
   "source": [
    "import re\n",
    "def clean_reviews(value):\n",
    "    value = re.sub(r'[,\\$]', '', str(value))\n",
    "    if value.isdigit():\n",
    "        return int(value)\n",
    "    else:\n",
    "        return None\n",
    "data['no_of_ratings'] = data['no_of_ratings'].apply(clean_reviews)"
   ]
  },
  {
   "cell_type": "code",
   "execution_count": 82,
   "id": "81127984-2e4d-4460-b5ac-b0541a0fb9a5",
   "metadata": {},
   "outputs": [],
   "source": [
    "data['discount_price'] = data['discount_price'].str.replace('₹', '').str.replace(',', '').astype(float)"
   ]
  },
  {
   "cell_type": "code",
   "execution_count": 84,
   "id": "f66983e5-6974-4181-9674-b0342d5f11df",
   "metadata": {},
   "outputs": [],
   "source": [
    "data['actual_price'] = data['actual_price'].str.replace('₹', '').str.replace(',', '').astype(float)"
   ]
  },
  {
   "cell_type": "code",
   "execution_count": 85,
   "id": "1975537e-9a20-4d02-9519-3bbec0bd6615",
   "metadata": {},
   "outputs": [
    {
     "name": "stdout",
     "output_type": "stream",
     "text": [
      "<class 'pandas.core.frame.DataFrame'>\n",
      "RangeIndex: 551585 entries, 0 to 551584\n",
      "Data columns (total 7 columns):\n",
      " #   Column          Non-Null Count   Dtype  \n",
      "---  ------          --------------   -----  \n",
      " 0   name            551585 non-null  object \n",
      " 1   main_category   551585 non-null  object \n",
      " 2   sub_category    551585 non-null  object \n",
      " 3   ratings         369558 non-null  float64\n",
      " 4   no_of_ratings   369495 non-null  float64\n",
      " 5   discount_price  490422 non-null  float64\n",
      " 6   actual_price    533772 non-null  float64\n",
      "dtypes: float64(4), object(3)\n",
      "memory usage: 29.5+ MB\n"
     ]
    }
   ],
   "source": [
    "data.info()"
   ]
  },
  {
   "cell_type": "markdown",
   "id": "b8323693-ce3e-4da3-bdc6-23f29051336b",
   "metadata": {},
   "source": [
    "Now the columns ***ratings***, ***no_of_ratings***, ***discount_price***, and ***actual_price*** are converted into float type."
   ]
  },
  {
   "cell_type": "markdown",
   "id": "b28a32e7-916f-4b2b-9abb-dbe7570d8a68",
   "metadata": {},
   "source": [
    "We can check the statistics now"
   ]
  },
  {
   "cell_type": "code",
   "execution_count": 86,
   "id": "0b02320b-d790-45e7-9443-9ae2421b2776",
   "metadata": {},
   "outputs": [
    {
     "data": {
      "text/html": [
       "<div>\n",
       "<style scoped>\n",
       "    .dataframe tbody tr th:only-of-type {\n",
       "        vertical-align: middle;\n",
       "    }\n",
       "\n",
       "    .dataframe tbody tr th {\n",
       "        vertical-align: top;\n",
       "    }\n",
       "\n",
       "    .dataframe thead th {\n",
       "        text-align: right;\n",
       "    }\n",
       "</style>\n",
       "<table border=\"1\" class=\"dataframe\">\n",
       "  <thead>\n",
       "    <tr style=\"text-align: right;\">\n",
       "      <th></th>\n",
       "      <th>ratings</th>\n",
       "      <th>no_of_ratings</th>\n",
       "      <th>discount_price</th>\n",
       "      <th>actual_price</th>\n",
       "    </tr>\n",
       "  </thead>\n",
       "  <tbody>\n",
       "    <tr>\n",
       "      <th>count</th>\n",
       "      <td>369558.000000</td>\n",
       "      <td>369495.000000</td>\n",
       "      <td>4.904220e+05</td>\n",
       "      <td>5.337720e+05</td>\n",
       "    </tr>\n",
       "    <tr>\n",
       "      <th>mean</th>\n",
       "      <td>3.832311</td>\n",
       "      <td>840.915393</td>\n",
       "      <td>2.623161e+03</td>\n",
       "      <td>2.311128e+04</td>\n",
       "    </tr>\n",
       "    <tr>\n",
       "      <th>std</th>\n",
       "      <td>0.756102</td>\n",
       "      <td>8652.267125</td>\n",
       "      <td>9.458196e+03</td>\n",
       "      <td>1.355082e+07</td>\n",
       "    </tr>\n",
       "    <tr>\n",
       "      <th>min</th>\n",
       "      <td>1.000000</td>\n",
       "      <td>1.000000</td>\n",
       "      <td>8.000000e+00</td>\n",
       "      <td>0.000000e+00</td>\n",
       "    </tr>\n",
       "    <tr>\n",
       "      <th>25%</th>\n",
       "      <td>3.500000</td>\n",
       "      <td>4.000000</td>\n",
       "      <td>3.890000e+02</td>\n",
       "      <td>9.900000e+02</td>\n",
       "    </tr>\n",
       "    <tr>\n",
       "      <th>50%</th>\n",
       "      <td>3.900000</td>\n",
       "      <td>20.000000</td>\n",
       "      <td>6.790000e+02</td>\n",
       "      <td>1.599000e+03</td>\n",
       "    </tr>\n",
       "    <tr>\n",
       "      <th>75%</th>\n",
       "      <td>4.300000</td>\n",
       "      <td>133.000000</td>\n",
       "      <td>1.399000e+03</td>\n",
       "      <td>2.999000e+03</td>\n",
       "    </tr>\n",
       "    <tr>\n",
       "      <th>max</th>\n",
       "      <td>5.000000</td>\n",
       "      <td>589547.000000</td>\n",
       "      <td>1.249990e+06</td>\n",
       "      <td>9.900000e+09</td>\n",
       "    </tr>\n",
       "  </tbody>\n",
       "</table>\n",
       "</div>"
      ],
      "text/plain": [
       "             ratings  no_of_ratings  discount_price  actual_price\n",
       "count  369558.000000  369495.000000    4.904220e+05  5.337720e+05\n",
       "mean        3.832311     840.915393    2.623161e+03  2.311128e+04\n",
       "std         0.756102    8652.267125    9.458196e+03  1.355082e+07\n",
       "min         1.000000       1.000000    8.000000e+00  0.000000e+00\n",
       "25%         3.500000       4.000000    3.890000e+02  9.900000e+02\n",
       "50%         3.900000      20.000000    6.790000e+02  1.599000e+03\n",
       "75%         4.300000     133.000000    1.399000e+03  2.999000e+03\n",
       "max         5.000000  589547.000000    1.249990e+06  9.900000e+09"
      ]
     },
     "execution_count": 86,
     "metadata": {},
     "output_type": "execute_result"
    }
   ],
   "source": [
    "data.describe()"
   ]
  },
  {
   "cell_type": "markdown",
   "id": "70d86a79-cf46-4b91-91eb-d9d7ab945732",
   "metadata": {},
   "source": [
    "***Observations***\n",
    "* The average rating or mean is ***3.83***, indicating generally positive feedback.\n",
    "* STD: 0.76, suggesting that most ratings are close to the average.\n",
    "* Min and max indicate that the ratings range from 1 to 5.\n",
    "* In ***no_of_ratings*** there are 841 ratings per item and 8,652, indicating a wide variation in the number of ratings. Also there is huge difference on the 50% and 75% (or quartiles) in ***no_of_ratings***.\n",
    "* In ***discount_price*** the mean is 2,623.16 and the standard deviation is 9,458.20, indicating significant variation.\n",
    "* In ***actual_price*** the average actual price is 23,111.28 and the standard deviation is 13,550,820 showing extreme variation.\n",
    "* A few products have a very high number of ratings, but most have relatively few. The latter suggests that these are newly inserted products.\n",
    "* There's a significant difference between the average discount price and the actual price, suggesting substantial discounts on many products.\n",
    "\n",
    "These are the observations with the NULL values."
   ]
  },
  {
   "cell_type": "markdown",
   "id": "0c3cda4c-31ff-4178-868f-4d59c0229e9b",
   "metadata": {},
   "source": [
    "### Correlation"
   ]
  },
  {
   "cell_type": "code",
   "execution_count": 88,
   "id": "5d458935-c36c-4c41-88d5-3aa94ae096fd",
   "metadata": {},
   "outputs": [
    {
     "data": {
      "text/html": [
       "<div>\n",
       "<style scoped>\n",
       "    .dataframe tbody tr th:only-of-type {\n",
       "        vertical-align: middle;\n",
       "    }\n",
       "\n",
       "    .dataframe tbody tr th {\n",
       "        vertical-align: top;\n",
       "    }\n",
       "\n",
       "    .dataframe thead th {\n",
       "        text-align: right;\n",
       "    }\n",
       "</style>\n",
       "<table border=\"1\" class=\"dataframe\">\n",
       "  <thead>\n",
       "    <tr style=\"text-align: right;\">\n",
       "      <th></th>\n",
       "      <th>ratings</th>\n",
       "      <th>no_of_ratings</th>\n",
       "      <th>discount_price</th>\n",
       "      <th>actual_price</th>\n",
       "    </tr>\n",
       "  </thead>\n",
       "  <tbody>\n",
       "    <tr>\n",
       "      <th>ratings</th>\n",
       "      <td>1.000000</td>\n",
       "      <td>0.040688</td>\n",
       "      <td>0.057262</td>\n",
       "      <td>-0.004002</td>\n",
       "    </tr>\n",
       "    <tr>\n",
       "      <th>no_of_ratings</th>\n",
       "      <td>0.040688</td>\n",
       "      <td>1.000000</td>\n",
       "      <td>0.010138</td>\n",
       "      <td>-0.000155</td>\n",
       "    </tr>\n",
       "    <tr>\n",
       "      <th>discount_price</th>\n",
       "      <td>0.057262</td>\n",
       "      <td>0.010138</td>\n",
       "      <td>1.000000</td>\n",
       "      <td>0.000575</td>\n",
       "    </tr>\n",
       "    <tr>\n",
       "      <th>actual_price</th>\n",
       "      <td>-0.004002</td>\n",
       "      <td>-0.000155</td>\n",
       "      <td>0.000575</td>\n",
       "      <td>1.000000</td>\n",
       "    </tr>\n",
       "  </tbody>\n",
       "</table>\n",
       "</div>"
      ],
      "text/plain": [
       "                 ratings  no_of_ratings  discount_price  actual_price\n",
       "ratings         1.000000       0.040688        0.057262     -0.004002\n",
       "no_of_ratings   0.040688       1.000000        0.010138     -0.000155\n",
       "discount_price  0.057262       0.010138        1.000000      0.000575\n",
       "actual_price   -0.004002      -0.000155        0.000575      1.000000"
      ]
     },
     "execution_count": 88,
     "metadata": {},
     "output_type": "execute_result"
    }
   ],
   "source": [
    "df = data[['ratings', 'no_of_ratings', 'discount_price','actual_price']]\n",
    "df.corr()"
   ]
  },
  {
   "cell_type": "markdown",
   "id": "90c065eb-a462-44e8-9084-0a62ce42ea37",
   "metadata": {},
   "source": [
    "***Observations***\n",
    "* ***ratings*** and ***no_of_ratings***: 0.041, indicating a very weak positive correlation.\n",
    "* ***ratings*** and ***discount_price***:  0.057, indicating a very weak positive correlation.\n",
    "* ***ratings*** and ***actual_price*** : -0.004, indicating a very weak negative correlation.\n",
    "* Similarly every column has a self correlation-coefficient as 1 and having a very weak positive, very weak negative or no correlation at all.\n",
    "\n",
    "***Key Insights***\n",
    "* All the variables show very weak correlations with each other. This means that changes in one variable do not strongly predict changes in another.\n",
    "* The weak positive correlation between ***ratings*** and ***discount_price*** suggests that higher-rated products might have slightly higher discount prices, but the relationship is very weak.\n",
    "* The almost non-existent correlation between the number of ***ratings*** and both ***discount*** and ***actual_prices*** suggests that the popularity of a product (as measured by the number of ratings) does not significantly affect its price.\n",
    "\n",
    "These are the insights drawn with the NULL values kept."
   ]
  },
  {
   "cell_type": "code",
   "execution_count": 91,
   "id": "2c5a1277-dce3-4734-aa4d-1b9a7e406458",
   "metadata": {},
   "outputs": [
    {
     "data": {
      "image/png": "[encoded data removed]",
      "text/plain": [
       "<Figure size 600x400 with 2 Axes>"
      ]
     },
     "metadata": {},
     "output_type": "display_data"
    }
   ],
   "source": [
    "import matplotlib.pyplot as plt\n",
    "plt.figure(figsize=(6,4))\n",
    "sns.heatmap(df.corr(), annot=True, fmt=\".2f\")\n",
    "plt.title('Correlation Matrix')\n",
    "plt.show()"
   ]
  },
  {
   "cell_type": "markdown",
   "id": "384e38d1-c8d8-49a2-a0d2-c875a9e38689",
   "metadata": {},
   "source": [
    "Here lighter shade represents positive correlation and darker colors represent negative correlation."
   ]
  },
  {
   "cell_type": "markdown",
   "id": "c338857e-1d9c-415c-966f-d477ae4bb85d",
   "metadata": {},
   "source": [
    "### Checking outliers"
   ]
  },
  {
   "cell_type": "code",
   "execution_count": 95,
   "id": "79ebb864-cdcd-4534-b712-a0558cebdf23",
   "metadata": {},
   "outputs": [
    {
     "data": {
      "image/png": "[encoded data removed]",
      "text/plain": [
       "<Figure size 400x1000 with 4 Axes>"
      ]
     },
     "metadata": {},
     "output_type": "display_data"
    }
   ],
   "source": [
    "import matplotlib.pyplot as plt\n",
    "import seaborn as sns\n",
    "\n",
    "df = data[['ratings', 'no_of_ratings', 'discount_price', 'actual_price']]\n",
    "l = df.columns.values\n",
    "number_of_columns = 2  \n",
    "number_of_rows = int((len(l) - 1) / number_of_columns) + 1\n",
    "\n",
    "plt.figure(figsize=(2 * number_of_columns, 5 * number_of_rows))\n",
    "\n",
    "for i in range(0, len(l)):\n",
    "    plt.subplot(number_of_rows, number_of_columns, i + 1)\n",
    "    sns.set_style('whitegrid')\n",
    "    sns.boxplot(y=df[l[i]], color='pink')\n",
    "    plt.tight_layout()\n",
    "\n",
    "plt.show()\n"
   ]
  },
  {
   "cell_type": "markdown",
   "id": "4a803159-1740-489a-8053-f33032baafd0",
   "metadata": {},
   "source": [
    "***Observations***\n",
    "* We can see that all the columns has outliers.\n",
    "* This might be because of the NULL values or actual/true outliers.\n",
    "* These might be false outliers too. For example: Price of a product can be very low and very high too. Same with the ***ratings*** and ***no_of_ratings***. Not all the customers will give a rating and not every rating can be a 5.\n",
    "* The points that are on the top are considered to be the outliers."
   ]
  },
  {
   "cell_type": "markdown",
   "id": "4c36605b-7c92-4bcb-b219-ea8870f0d581",
   "metadata": {},
   "source": [
    "### Removing null values"
   ]
  },
  {
   "cell_type": "code",
   "execution_count": 112,
   "id": "3772be20-4e92-4147-8cff-431d485d15d4",
   "metadata": {},
   "outputs": [],
   "source": [
    "df_cleaned = data.dropna(subset=['ratings', 'no_of_ratings', 'discount_price', 'actual_price'])\n",
    "df_cleaned.to_csv('cleaned_file.csv', index=False)"
   ]
  },
  {
   "cell_type": "code",
   "execution_count": 113,
   "id": "795e2463-5ba6-4cfd-80ba-de4d80e11579",
   "metadata": {},
   "outputs": [
    {
     "name": "stdout",
     "output_type": "stream",
     "text": [
      "<class 'pandas.core.frame.DataFrame'>\n",
      "RangeIndex: 334915 entries, 0 to 334914\n",
      "Data columns (total 7 columns):\n",
      " #   Column          Non-Null Count   Dtype  \n",
      "---  ------          --------------   -----  \n",
      " 0   name            334915 non-null  object \n",
      " 1   main_category   334915 non-null  object \n",
      " 2   sub_category    334915 non-null  object \n",
      " 3   ratings         334915 non-null  float64\n",
      " 4   no_of_ratings   334915 non-null  float64\n",
      " 5   discount_price  334915 non-null  float64\n",
      " 6   actual_price    334915 non-null  float64\n",
      "dtypes: float64(4), object(3)\n",
      "memory usage: 17.9+ MB\n"
     ]
    }
   ],
   "source": [
    "new_df = pd.read_csv('cleaned_file.csv')\n",
    "new_df.info()"
   ]
  },
  {
   "cell_type": "markdown",
   "id": "a774f500-0c44-4149-b719-63d2230e7bdc",
   "metadata": {},
   "source": [
    "Now that the NULL values are removed lets see the statistics, correlation and chcek if there are any outliers"
   ]
  },
  {
   "cell_type": "markdown",
   "id": "2bdf8d88-aa72-4c48-b0de-26cf67090ca8",
   "metadata": {},
   "source": [
    "### Statistics\n"
   ]
  },
  {
   "cell_type": "code",
   "execution_count": 114,
   "id": "bfcbb50e-c16a-47d8-bd24-78a3ecbe8975",
   "metadata": {},
   "outputs": [
    {
     "data": {
      "text/html": [
       "<div>\n",
       "<style scoped>\n",
       "    .dataframe tbody tr th:only-of-type {\n",
       "        vertical-align: middle;\n",
       "    }\n",
       "\n",
       "    .dataframe tbody tr th {\n",
       "        vertical-align: top;\n",
       "    }\n",
       "\n",
       "    .dataframe thead th {\n",
       "        text-align: right;\n",
       "    }\n",
       "</style>\n",
       "<table border=\"1\" class=\"dataframe\">\n",
       "  <thead>\n",
       "    <tr style=\"text-align: right;\">\n",
       "      <th></th>\n",
       "      <th>ratings</th>\n",
       "      <th>no_of_ratings</th>\n",
       "      <th>discount_price</th>\n",
       "      <th>actual_price</th>\n",
       "    </tr>\n",
       "  </thead>\n",
       "  <tbody>\n",
       "    <tr>\n",
       "      <th>count</th>\n",
       "      <td>334915.000000</td>\n",
       "      <td>334915.000000</td>\n",
       "      <td>3.349150e+05</td>\n",
       "      <td>3.349150e+05</td>\n",
       "    </tr>\n",
       "    <tr>\n",
       "      <th>mean</th>\n",
       "      <td>3.814396</td>\n",
       "      <td>853.979878</td>\n",
       "      <td>1.759014e+03</td>\n",
       "      <td>3.299284e+04</td>\n",
       "    </tr>\n",
       "    <tr>\n",
       "      <th>std</th>\n",
       "      <td>0.754193</td>\n",
       "      <td>8891.609700</td>\n",
       "      <td>6.394905e+03</td>\n",
       "      <td>1.710709e+07</td>\n",
       "    </tr>\n",
       "    <tr>\n",
       "      <th>min</th>\n",
       "      <td>1.000000</td>\n",
       "      <td>1.000000</td>\n",
       "      <td>8.000000e+00</td>\n",
       "      <td>1.000000e+01</td>\n",
       "    </tr>\n",
       "    <tr>\n",
       "      <th>25%</th>\n",
       "      <td>3.500000</td>\n",
       "      <td>4.000000</td>\n",
       "      <td>3.590000e+02</td>\n",
       "      <td>9.000000e+02</td>\n",
       "    </tr>\n",
       "    <tr>\n",
       "      <th>50%</th>\n",
       "      <td>3.900000</td>\n",
       "      <td>20.000000</td>\n",
       "      <td>5.990000e+02</td>\n",
       "      <td>1.499000e+03</td>\n",
       "    </tr>\n",
       "    <tr>\n",
       "      <th>75%</th>\n",
       "      <td>4.200000</td>\n",
       "      <td>131.500000</td>\n",
       "      <td>1.199000e+03</td>\n",
       "      <td>2.799000e+03</td>\n",
       "    </tr>\n",
       "    <tr>\n",
       "      <th>max</th>\n",
       "      <td>5.000000</td>\n",
       "      <td>589547.000000</td>\n",
       "      <td>1.249990e+06</td>\n",
       "      <td>9.900000e+09</td>\n",
       "    </tr>\n",
       "  </tbody>\n",
       "</table>\n",
       "</div>"
      ],
      "text/plain": [
       "             ratings  no_of_ratings  discount_price  actual_price\n",
       "count  334915.000000  334915.000000    3.349150e+05  3.349150e+05\n",
       "mean        3.814396     853.979878    1.759014e+03  3.299284e+04\n",
       "std         0.754193    8891.609700    6.394905e+03  1.710709e+07\n",
       "min         1.000000       1.000000    8.000000e+00  1.000000e+01\n",
       "25%         3.500000       4.000000    3.590000e+02  9.000000e+02\n",
       "50%         3.900000      20.000000    5.990000e+02  1.499000e+03\n",
       "75%         4.200000     131.500000    1.199000e+03  2.799000e+03\n",
       "max         5.000000  589547.000000    1.249990e+06  9.900000e+09"
      ]
     },
     "execution_count": 114,
     "metadata": {},
     "output_type": "execute_result"
    }
   ],
   "source": [
    "new_df.describe()"
   ]
  },
  {
   "cell_type": "markdown",
   "id": "deec7f1d-75b8-4412-b7c6-4c9605599118",
   "metadata": {},
   "source": [
    "***Observations***\n",
    "* There are many changes in this statistics compared to the previous one.\n",
    "* There are changes in 3rd quartile of ratings; mean, SD, 3rd quartile of ***no_of_ratings***; mean, SD, 1st,2nd and 3rd quartile of ***discount_price***; and mean, SD, 1st,2nd and 3rd quartile of ***actual_price***.\n",
    "* Though these changes are not huge in number, these chnages indicate the difference that a null value can cause."
   ]
  },
  {
   "cell_type": "code",
   "execution_count": 116,
   "id": "c29b68a5-c1fa-41ac-b03e-a9f2ee6ea117",
   "metadata": {},
   "outputs": [
    {
     "data": {
      "text/html": [
       "<div>\n",
       "<style scoped>\n",
       "    .dataframe tbody tr th:only-of-type {\n",
       "        vertical-align: middle;\n",
       "    }\n",
       "\n",
       "    .dataframe tbody tr th {\n",
       "        vertical-align: top;\n",
       "    }\n",
       "\n",
       "    .dataframe thead th {\n",
       "        text-align: right;\n",
       "    }\n",
       "</style>\n",
       "<table border=\"1\" class=\"dataframe\">\n",
       "  <thead>\n",
       "    <tr style=\"text-align: right;\">\n",
       "      <th></th>\n",
       "      <th>ratings</th>\n",
       "      <th>no_of_ratings</th>\n",
       "      <th>discount_price</th>\n",
       "      <th>actual_price</th>\n",
       "    </tr>\n",
       "  </thead>\n",
       "  <tbody>\n",
       "    <tr>\n",
       "      <th>ratings</th>\n",
       "      <td>1.000000</td>\n",
       "      <td>0.040748</td>\n",
       "      <td>0.057264</td>\n",
       "      <td>-0.004138</td>\n",
       "    </tr>\n",
       "    <tr>\n",
       "      <th>no_of_ratings</th>\n",
       "      <td>0.040748</td>\n",
       "      <td>1.000000</td>\n",
       "      <td>0.010138</td>\n",
       "      <td>-0.000159</td>\n",
       "    </tr>\n",
       "    <tr>\n",
       "      <th>discount_price</th>\n",
       "      <td>0.057264</td>\n",
       "      <td>0.010138</td>\n",
       "      <td>1.000000</td>\n",
       "      <td>0.000196</td>\n",
       "    </tr>\n",
       "    <tr>\n",
       "      <th>actual_price</th>\n",
       "      <td>-0.004138</td>\n",
       "      <td>-0.000159</td>\n",
       "      <td>0.000196</td>\n",
       "      <td>1.000000</td>\n",
       "    </tr>\n",
       "  </tbody>\n",
       "</table>\n",
       "</div>"
      ],
      "text/plain": [
       "                 ratings  no_of_ratings  discount_price  actual_price\n",
       "ratings         1.000000       0.040748        0.057264     -0.004138\n",
       "no_of_ratings   0.040748       1.000000        0.010138     -0.000159\n",
       "discount_price  0.057264       0.010138        1.000000      0.000196\n",
       "actual_price   -0.004138      -0.000159        0.000196      1.000000"
      ]
     },
     "execution_count": 116,
     "metadata": {},
     "output_type": "execute_result"
    }
   ],
   "source": [
    "corr_df = new_df[['ratings', 'no_of_ratings', 'discount_price', 'actual_price']]\n",
    "corr_df.corr()"
   ]
  },
  {
   "cell_type": "code",
   "execution_count": 117,
   "id": "b6a9b15a-2767-46fb-a80a-7a4b0569f387",
   "metadata": {},
   "outputs": [
    {
     "data": {
      "image/png": "[encoded data removed]",
      "text/plain": [
       "<Figure size 600x400 with 2 Axes>"
      ]
     },
     "metadata": {},
     "output_type": "display_data"
    }
   ],
   "source": [
    "import matplotlib.pyplot as plt\n",
    "plt.figure(figsize=(6,4))\n",
    "sns.heatmap(corr_df.corr(), annot=True, fmt=\".2f\")\n",
    "plt.title('Correlation Matrix')\n",
    "plt.show()"
   ]
  },
  {
   "cell_type": "markdown",
   "id": "1d807cc6-9770-4aa2-9741-f35718eee6af",
   "metadata": {},
   "source": [
    "***Observations***\n",
    "* There are very minute changes in the correlation in a positive way.\n",
    "* Yet this correlation coefficients shows that there is no strong correlation."
   ]
  },
  {
   "cell_type": "markdown",
   "id": "5bec517a-71c1-4981-a3ec-a60f4f797b85",
   "metadata": {},
   "source": [
    "***Conclusion***\n",
    "* Removing NULL values did not bring a significant change to the statistics and correlation.\n",
    "* There are outliers in the dataset that is giving skewed result in the 75% or the 3rd quartile.\n",
    "* For accurate analysis these NULL values and the outliers must be removed or handled.\n",
    "* NULL values in the ratings can be replaced with the mean and outliers should be removed while data cleaning for accurate analysis."
   ]
  },
  {
   "cell_type": "code",
   "execution_count": null,
   "id": "77fd5785-66db-4e81-ae0f-e7fbe3bd4763",
   "metadata": {},
   "outputs": [],
   "source": []
  }
 ],
 "metadata": {
  "kernelspec": {
   "display_name": "Python 3 (ipykernel)",
   "language": "python",
   "name": "python3"
  },
  "language_info": {
   "codemirror_mode": {
    "name": "ipython",
    "version": 3
   },
   "file_extension": ".py",
   "mimetype": "text/x-python",
   "name": "python",
   "nbconvert_exporter": "python",
   "pygments_lexer": "ipython3",
   "version": "3.11.9"
  }
 },
 "nbformat": 4,
 "nbformat_minor": 5
}
