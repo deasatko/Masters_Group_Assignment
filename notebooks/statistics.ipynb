{
 "cells": [
  {
   "cell_type": "code",
   "execution_count": 46,
   "metadata": {},
   "outputs": [],
   "source": [
    "import pandas as pd\n",
    "import scipy.stats as stats\n",
    "import numpy as np\n",
    "import seaborn as sns\n",
    "import matplotlib.pyplot as plt"
   ]
  },
  {
   "cell_type": "markdown",
   "metadata": {},
   "source": [
    "## Task 2 of week's two assignment: \n",
    "## Hypothesis Testing and Statistical Analysis\n",
    "\n",
    "In this notebook, we will identify several hypotheses based on exploratory data analysis (EDA) and perform statistical tests (e.g., t-test, ANOVA) to test these hypotheses.\n",
    "\n",
    "We will:\n",
    "1. Clean the dataset by handling missing values and non-numeric entries.\n",
    "2. Perform a t-test to compare the discount prices of high-rated vs. low-rated products.\n",
    "3. Perform an ANOVA to determine if the number of ratings varies significantly across different subcategories.\n"
   ]
  },
  {
   "cell_type": "code",
   "execution_count": 62,
   "metadata": {},
   "outputs": [
    {
     "data": {
      "text/html": [
       "<div>\n",
       "<style scoped>\n",
       "    .dataframe tbody tr th:only-of-type {\n",
       "        vertical-align: middle;\n",
       "    }\n",
       "\n",
       "    .dataframe tbody tr th {\n",
       "        vertical-align: top;\n",
       "    }\n",
       "\n",
       "    .dataframe thead th {\n",
       "        text-align: right;\n",
       "    }\n",
       "</style>\n",
       "<table border=\"1\" class=\"dataframe\">\n",
       "  <thead>\n",
       "    <tr style=\"text-align: right;\">\n",
       "      <th></th>\n",
       "      <th>name</th>\n",
       "      <th>main_category</th>\n",
       "      <th>sub_category</th>\n",
       "      <th>ratings</th>\n",
       "      <th>no_of_ratings</th>\n",
       "      <th>discount_price</th>\n",
       "      <th>actual_price</th>\n",
       "    </tr>\n",
       "  </thead>\n",
       "  <tbody>\n",
       "    <tr>\n",
       "      <th>0</th>\n",
       "      <td>Small Personal Air Conditioners Mini Air Condi...</td>\n",
       "      <td>appliances</td>\n",
       "      <td>Air Conditioners</td>\n",
       "      <td>3.1</td>\n",
       "      <td>85.0</td>\n",
       "      <td>2499.0</td>\n",
       "      <td>2999.0</td>\n",
       "    </tr>\n",
       "    <tr>\n",
       "      <th>1</th>\n",
       "      <td>ALLWIN TAFTA High Quality Metal Special Coated...</td>\n",
       "      <td>appliances</td>\n",
       "      <td>Air Conditioners</td>\n",
       "      <td>4.6</td>\n",
       "      <td>7.0</td>\n",
       "      <td>647.0</td>\n",
       "      <td>1500.0</td>\n",
       "    </tr>\n",
       "    <tr>\n",
       "      <th>2</th>\n",
       "      <td>Hexzone Floor AC Stand Certified Special Coate...</td>\n",
       "      <td>appliances</td>\n",
       "      <td>Air Conditioners</td>\n",
       "      <td>4.1</td>\n",
       "      <td>9.0</td>\n",
       "      <td>679.0</td>\n",
       "      <td>1249.0</td>\n",
       "    </tr>\n",
       "    <tr>\n",
       "      <th>3</th>\n",
       "      <td>AC Stand/Heavy Duty Air Conditioner Outdoor Un...</td>\n",
       "      <td>appliances</td>\n",
       "      <td>Air Conditioners</td>\n",
       "      <td>5.0</td>\n",
       "      <td>2.0</td>\n",
       "      <td>599.0</td>\n",
       "      <td>999.0</td>\n",
       "    </tr>\n",
       "    <tr>\n",
       "      <th>4</th>\n",
       "      <td>ThreeH USB Fan Silent Mini Air Conditioner Tra...</td>\n",
       "      <td>appliances</td>\n",
       "      <td>Air Conditioners</td>\n",
       "      <td>4.0</td>\n",
       "      <td>1400.0</td>\n",
       "      <td>1219.0</td>\n",
       "      <td>1449.0</td>\n",
       "    </tr>\n",
       "  </tbody>\n",
       "</table>\n",
       "</div>"
      ],
      "text/plain": [
       "                                                name main_category  \\\n",
       "0  Small Personal Air Conditioners Mini Air Condi...    appliances   \n",
       "1  ALLWIN TAFTA High Quality Metal Special Coated...    appliances   \n",
       "2  Hexzone Floor AC Stand Certified Special Coate...    appliances   \n",
       "3  AC Stand/Heavy Duty Air Conditioner Outdoor Un...    appliances   \n",
       "4  ThreeH USB Fan Silent Mini Air Conditioner Tra...    appliances   \n",
       "\n",
       "       sub_category  ratings  no_of_ratings  discount_price  actual_price  \n",
       "0  Air Conditioners      3.1           85.0          2499.0        2999.0  \n",
       "1  Air Conditioners      4.6            7.0           647.0        1500.0  \n",
       "2  Air Conditioners      4.1            9.0           679.0        1249.0  \n",
       "3  Air Conditioners      5.0            2.0           599.0         999.0  \n",
       "4  Air Conditioners      4.0         1400.0          1219.0        1449.0  "
      ]
     },
     "execution_count": 62,
     "metadata": {},
     "output_type": "execute_result"
    }
   ],
   "source": [
    "# Loading the data\n",
    "data = pd.read_csv(\"../data/final_cleaned.csv\")\n",
    "data.head()"
   ]
  },
  {
   "cell_type": "markdown",
   "metadata": {},
   "source": [
    "# Hypothesis 1: T-test for discount prices between high-rated and low-rated products"
   ]
  },
  {
   "cell_type": "code",
   "execution_count": 71,
   "metadata": {},
   "outputs": [
    {
     "data": {
      "text/plain": [
       "actual_price      0\n",
       "discount_price    0\n",
       "dtype: int64"
      ]
     },
     "execution_count": 71,
     "metadata": {},
     "output_type": "execute_result"
    }
   ],
   "source": [
    "# Checking for missing values in actual_price and discount_price columns, cleaning the 'discount_price' column\n",
    "data[['actual_price', 'discount_price']].isna().sum()"
   ]
  },
  {
   "cell_type": "code",
   "execution_count": 72,
   "metadata": {},
   "outputs": [
    {
     "name": "stdout",
     "output_type": "stream",
     "text": [
      "T-test result: t-statistic = 33.68404553514181, p-value = 3.12098162720897e-248\n"
     ]
    }
   ],
   "source": [
    "# T-test for discount prices between high-rated and low-rated products\n",
    "\n",
    "# Separate the high-rated and low-rated products based on a threshold rating of 4.0\n",
    "threshold = 4.0\n",
    "high_rated = data_clean[data_clean['ratings'] >= threshold]['discount_price']\n",
    "low_rated = data_clean[data_clean['ratings'] < threshold]['discount_price']\n",
    "\n",
    "# Perform Welch's t-test (two-sample t-test with unequal variance)\n",
    "t_stat, p_value = stats.ttest_ind(high_rated, low_rated, equal_var=False)\n",
    "\n",
    "print(f\"T-test result: t-statistic = {t_stat}, p-value = {p_value}\")"
   ]
  },
  {
   "cell_type": "markdown",
   "metadata": {},
   "source": [
    "### Interpretation of T-test Results:\n",
    "\n",
    "The t-test result shows a **t-statistic of 44.89** and a **p-value of 0.0**, indicating a statistically significant difference in discount prices between high-rated and low-rated products. We can confidently reject the null hypothesis and conclude that there is a significant difference between the two groups."
   ]
  },
  {
   "cell_type": "markdown",
   "metadata": {},
   "source": [
    "# Hypothesis 2 (ANOVA Test)"
   ]
  },
  {
   "cell_type": "code",
   "execution_count": 69,
   "metadata": {},
   "outputs": [
    {
     "name": "stdout",
     "output_type": "stream",
     "text": [
      "ANOVA statistic: 144.66464846384974\n",
      "P-value: 0.0\n"
     ]
    }
   ],
   "source": [
    "# Perform ANOVA test to check if the number of ratings differs significantly across subcategories\n",
    "anova_stat, p_value_anova = stats.f_oneway(*[final_data[final_data['sub_category'] == cat]['no_of_ratings']\n",
    "    for cat in final_data['sub_category'].unique()])\n",
    "\n",
    "print(\"ANOVA statistic:\", anova_stat)\n",
    "print(\"P-value:\", p_value_anova)"
   ]
  },
  {
   "cell_type": "markdown",
   "metadata": {},
   "source": [
    "### Interpretation of ANOVA Results:\n",
    "\n",
    "The ANOVA test result shows a **statistic of 144.66** and a **p-value of 0.0**, meaning that the number of ratings varies significantly across the subcategories. The large ANOVA statistic suggests that the variance between the group means is much larger than the variance within the groups, making it unlikely that the observed differences are due to random variation.\n"
   ]
  },
  {
   "cell_type": "markdown",
   "metadata": {},
   "source": [
    "### Conclusion for Hypothesis 1 (T-test):\n",
    "The t-test shows a statistically significant difference in discount prices between high-rated and low-rated products. Based on the very low p-value, we can reject the null hypothesis.\n",
    "\n",
    "### Conclusion for Hypothesis 2 (ANOVA):\n",
    "The ANOVA test shows a significant difference in the number of ratings across different subcategories, suggesting that certain subcategories are more popular or attract more feedback from customers."
   ]
  }
 ],
 "metadata": {
  "kernelspec": {
   "display_name": "Python 3",
   "language": "python",
   "name": "python3"
  },
  "language_info": {
   "codemirror_mode": {
    "name": "ipython",
    "version": 3
   },
   "file_extension": ".py",
   "mimetype": "text/x-python",
   "name": "python",
   "nbconvert_exporter": "python",
   "pygments_lexer": "ipython3",
   "version": "3.11.9"
  }
 },
 "nbformat": 4,
 "nbformat_minor": 2
}
