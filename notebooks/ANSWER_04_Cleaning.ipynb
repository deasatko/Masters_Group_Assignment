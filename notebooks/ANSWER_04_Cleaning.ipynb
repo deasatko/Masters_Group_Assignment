{
  "nbformat": 4,
  "nbformat_minor": 0,
  "metadata": {
    "colab": {
      "provenance": []
    },
    "kernelspec": {
      "name": "python3",
      "display_name": "Python 3"
    },
    "language_info": {
      "name": "python"
    }
  },
  "cells": [
    {
      "cell_type": "markdown",
      "source": [
        "# Data Cleaning"
      ],
      "metadata": {
        "id": "brOHtGAEErOr"
      }
    },
    {
      "cell_type": "markdown",
      "source": [
        "This document outlines the steps taken to clean and prepare the dataset for analysis. Below, each decision is explained in the context of these questions and the EDA.\n",
        "\n",
        "Please ensure before running the below to load the original dataset, 'cleaned.csv', to your local machine."
      ],
      "metadata": {
        "id": "43kcmQLl1ih8"
      }
    },
    {
      "cell_type": "code",
      "execution_count": 93,
      "metadata": {
        "id": "QiZt85BOxwUg"
      },
      "outputs": [],
      "source": [
        "import pandas as pd"
      ]
    },
    {
      "cell_type": "code",
      "source": [
        "# Load the dataset to perform data cleaning\n",
        "file_path = '/content/cleaned.csv'\n",
        "data = pd.read_csv(file_path)\n",
        "\n",
        "# Print the first entries to see what the data looks like\n",
        "data.head()"
      ],
      "metadata": {
        "id": "y7UjZF_WzOjD",
        "colab": {
          "base_uri": "https://localhost:8080/",
          "height": 310
        },
        "outputId": "e365dcad-5f12-4918-a8c5-3ba70388b1ac"
      },
      "execution_count": 94,
      "outputs": [
        {
          "output_type": "execute_result",
          "data": {
            "text/plain": [
              "   Unnamed: 0                                               name  \\\n",
              "0           0  Lloyd 1.5 Ton 3 Star Inverter Split Ac (5 In 1...   \n",
              "1           1  LG 1.5 Ton 5 Star AI DUAL Inverter Split AC (C...   \n",
              "2           2  LG 1 Ton 4 Star Ai Dual Inverter Split Ac (Cop...   \n",
              "3           3  LG 1.5 Ton 3 Star AI DUAL Inverter Split AC (C...   \n",
              "4           4  Carrier 1.5 Ton 3 Star Inverter Split AC (Copp...   \n",
              "\n",
              "  main_category      sub_category ratings no_of_ratings discount_price  \\\n",
              "0    appliances  Air Conditioners     4.2         2,255        ₹32,999   \n",
              "1    appliances  Air Conditioners     4.2         2,948        ₹46,490   \n",
              "2    appliances  Air Conditioners     4.2         1,206        ₹34,490   \n",
              "3    appliances  Air Conditioners       4            69        ₹37,990   \n",
              "4    appliances  Air Conditioners     4.1           630        ₹34,490   \n",
              "\n",
              "  actual_price  \n",
              "0      ₹58,990  \n",
              "1      ₹75,990  \n",
              "2      ₹61,990  \n",
              "3      ₹68,990  \n",
              "4      ₹67,790  "
            ],
            "text/html": [
              "\n",
              "  <div id=\"df-69f307d4-9f30-4788-9e7e-73e5097fd7ba\" class=\"colab-df-container\">\n",
              "    <div>\n",
              "<style scoped>\n",
              "    .dataframe tbody tr th:only-of-type {\n",
              "        vertical-align: middle;\n",
              "    }\n",
              "\n",
              "    .dataframe tbody tr th {\n",
              "        vertical-align: top;\n",
              "    }\n",
              "\n",
              "    .dataframe thead th {\n",
              "        text-align: right;\n",
              "    }\n",
              "</style>\n",
              "<table border=\"1\" class=\"dataframe\">\n",
              "  <thead>\n",
              "    <tr style=\"text-align: right;\">\n",
              "      <th></th>\n",
              "      <th>Unnamed: 0</th>\n",
              "      <th>name</th>\n",
              "      <th>main_category</th>\n",
              "      <th>sub_category</th>\n",
              "      <th>ratings</th>\n",
              "      <th>no_of_ratings</th>\n",
              "      <th>discount_price</th>\n",
              "      <th>actual_price</th>\n",
              "    </tr>\n",
              "  </thead>\n",
              "  <tbody>\n",
              "    <tr>\n",
              "      <th>0</th>\n",
              "      <td>0</td>\n",
              "      <td>Lloyd 1.5 Ton 3 Star Inverter Split Ac (5 In 1...</td>\n",
              "      <td>appliances</td>\n",
              "      <td>Air Conditioners</td>\n",
              "      <td>4.2</td>\n",
              "      <td>2,255</td>\n",
              "      <td>₹32,999</td>\n",
              "      <td>₹58,990</td>\n",
              "    </tr>\n",
              "    <tr>\n",
              "      <th>1</th>\n",
              "      <td>1</td>\n",
              "      <td>LG 1.5 Ton 5 Star AI DUAL Inverter Split AC (C...</td>\n",
              "      <td>appliances</td>\n",
              "      <td>Air Conditioners</td>\n",
              "      <td>4.2</td>\n",
              "      <td>2,948</td>\n",
              "      <td>₹46,490</td>\n",
              "      <td>₹75,990</td>\n",
              "    </tr>\n",
              "    <tr>\n",
              "      <th>2</th>\n",
              "      <td>2</td>\n",
              "      <td>LG 1 Ton 4 Star Ai Dual Inverter Split Ac (Cop...</td>\n",
              "      <td>appliances</td>\n",
              "      <td>Air Conditioners</td>\n",
              "      <td>4.2</td>\n",
              "      <td>1,206</td>\n",
              "      <td>₹34,490</td>\n",
              "      <td>₹61,990</td>\n",
              "    </tr>\n",
              "    <tr>\n",
              "      <th>3</th>\n",
              "      <td>3</td>\n",
              "      <td>LG 1.5 Ton 3 Star AI DUAL Inverter Split AC (C...</td>\n",
              "      <td>appliances</td>\n",
              "      <td>Air Conditioners</td>\n",
              "      <td>4</td>\n",
              "      <td>69</td>\n",
              "      <td>₹37,990</td>\n",
              "      <td>₹68,990</td>\n",
              "    </tr>\n",
              "    <tr>\n",
              "      <th>4</th>\n",
              "      <td>4</td>\n",
              "      <td>Carrier 1.5 Ton 3 Star Inverter Split AC (Copp...</td>\n",
              "      <td>appliances</td>\n",
              "      <td>Air Conditioners</td>\n",
              "      <td>4.1</td>\n",
              "      <td>630</td>\n",
              "      <td>₹34,490</td>\n",
              "      <td>₹67,790</td>\n",
              "    </tr>\n",
              "  </tbody>\n",
              "</table>\n",
              "</div>\n",
              "    <div class=\"colab-df-buttons\">\n",
              "\n",
              "  <div class=\"colab-df-container\">\n",
              "    <button class=\"colab-df-convert\" onclick=\"convertToInteractive('df-69f307d4-9f30-4788-9e7e-73e5097fd7ba')\"\n",
              "            title=\"Convert this dataframe to an interactive table.\"\n",
              "            style=\"display:none;\">\n",
              "\n",
              "  <svg xmlns=\"http://www.w3.org/2000/svg\" height=\"24px\" viewBox=\"0 -960 960 960\">\n",
              "    <path d=\"M120-120v-720h720v720H120Zm60-500h600v-160H180v160Zm220 220h160v-160H400v160Zm0 220h160v-160H400v160ZM180-400h160v-160H180v160Zm440 0h160v-160H620v160ZM180-180h160v-160H180v160Zm440 0h160v-160H620v160Z\"/>\n",
              "  </svg>\n",
              "    </button>\n",
              "\n",
              "  <style>\n",
              "    .colab-df-container {\n",
              "      display:flex;\n",
              "      gap: 12px;\n",
              "    }\n",
              "\n",
              "    .colab-df-convert {\n",
              "      background-color: #E8F0FE;\n",
              "      border: none;\n",
              "      border-radius: 50%;\n",
              "      cursor: pointer;\n",
              "      display: none;\n",
              "      fill: #1967D2;\n",
              "      height: 32px;\n",
              "      padding: 0 0 0 0;\n",
              "      width: 32px;\n",
              "    }\n",
              "\n",
              "    .colab-df-convert:hover {\n",
              "      background-color: #E2EBFA;\n",
              "      box-shadow: 0px 1px 2px rgba(60, 64, 67, 0.3), 0px 1px 3px 1px rgba(60, 64, 67, 0.15);\n",
              "      fill: #174EA6;\n",
              "    }\n",
              "\n",
              "    .colab-df-buttons div {\n",
              "      margin-bottom: 4px;\n",
              "    }\n",
              "\n",
              "    [theme=dark] .colab-df-convert {\n",
              "      background-color: #3B4455;\n",
              "      fill: #D2E3FC;\n",
              "    }\n",
              "\n",
              "    [theme=dark] .colab-df-convert:hover {\n",
              "      background-color: #434B5C;\n",
              "      box-shadow: 0px 1px 3px 1px rgba(0, 0, 0, 0.15);\n",
              "      filter: drop-shadow(0px 1px 2px rgba(0, 0, 0, 0.3));\n",
              "      fill: #FFFFFF;\n",
              "    }\n",
              "  </style>\n",
              "\n",
              "    <script>\n",
              "      const buttonEl =\n",
              "        document.querySelector('#df-69f307d4-9f30-4788-9e7e-73e5097fd7ba button.colab-df-convert');\n",
              "      buttonEl.style.display =\n",
              "        google.colab.kernel.accessAllowed ? 'block' : 'none';\n",
              "\n",
              "      async function convertToInteractive(key) {\n",
              "        const element = document.querySelector('#df-69f307d4-9f30-4788-9e7e-73e5097fd7ba');\n",
              "        const dataTable =\n",
              "          await google.colab.kernel.invokeFunction('convertToInteractive',\n",
              "                                                    [key], {});\n",
              "        if (!dataTable) return;\n",
              "\n",
              "        const docLinkHtml = 'Like what you see? Visit the ' +\n",
              "          '<a target=\"_blank\" href=https://colab.research.google.com/notebooks/data_table.ipynb>data table notebook</a>'\n",
              "          + ' to learn more about interactive tables.';\n",
              "        element.innerHTML = '';\n",
              "        dataTable['output_type'] = 'display_data';\n",
              "        await google.colab.output.renderOutput(dataTable, element);\n",
              "        const docLink = document.createElement('div');\n",
              "        docLink.innerHTML = docLinkHtml;\n",
              "        element.appendChild(docLink);\n",
              "      }\n",
              "    </script>\n",
              "  </div>\n",
              "\n",
              "\n",
              "<div id=\"df-a2898a13-7e4d-4575-8990-3d310427df64\">\n",
              "  <button class=\"colab-df-quickchart\" onclick=\"quickchart('df-a2898a13-7e4d-4575-8990-3d310427df64')\"\n",
              "            title=\"Suggest charts\"\n",
              "            style=\"display:none;\">\n",
              "\n",
              "<svg xmlns=\"http://www.w3.org/2000/svg\" height=\"24px\"viewBox=\"0 0 24 24\"\n",
              "     width=\"24px\">\n",
              "    <g>\n",
              "        <path d=\"M19 3H5c-1.1 0-2 .9-2 2v14c0 1.1.9 2 2 2h14c1.1 0 2-.9 2-2V5c0-1.1-.9-2-2-2zM9 17H7v-7h2v7zm4 0h-2V7h2v10zm4 0h-2v-4h2v4z\"/>\n",
              "    </g>\n",
              "</svg>\n",
              "  </button>\n",
              "\n",
              "<style>\n",
              "  .colab-df-quickchart {\n",
              "      --bg-color: #E8F0FE;\n",
              "      --fill-color: #1967D2;\n",
              "      --hover-bg-color: #E2EBFA;\n",
              "      --hover-fill-color: #174EA6;\n",
              "      --disabled-fill-color: #AAA;\n",
              "      --disabled-bg-color: #DDD;\n",
              "  }\n",
              "\n",
              "  [theme=dark] .colab-df-quickchart {\n",
              "      --bg-color: #3B4455;\n",
              "      --fill-color: #D2E3FC;\n",
              "      --hover-bg-color: #434B5C;\n",
              "      --hover-fill-color: #FFFFFF;\n",
              "      --disabled-bg-color: #3B4455;\n",
              "      --disabled-fill-color: #666;\n",
              "  }\n",
              "\n",
              "  .colab-df-quickchart {\n",
              "    background-color: var(--bg-color);\n",
              "    border: none;\n",
              "    border-radius: 50%;\n",
              "    cursor: pointer;\n",
              "    display: none;\n",
              "    fill: var(--fill-color);\n",
              "    height: 32px;\n",
              "    padding: 0;\n",
              "    width: 32px;\n",
              "  }\n",
              "\n",
              "  .colab-df-quickchart:hover {\n",
              "    background-color: var(--hover-bg-color);\n",
              "    box-shadow: 0 1px 2px rgba(60, 64, 67, 0.3), 0 1px 3px 1px rgba(60, 64, 67, 0.15);\n",
              "    fill: var(--button-hover-fill-color);\n",
              "  }\n",
              "\n",
              "  .colab-df-quickchart-complete:disabled,\n",
              "  .colab-df-quickchart-complete:disabled:hover {\n",
              "    background-color: var(--disabled-bg-color);\n",
              "    fill: var(--disabled-fill-color);\n",
              "    box-shadow: none;\n",
              "  }\n",
              "\n",
              "  .colab-df-spinner {\n",
              "    border: 2px solid var(--fill-color);\n",
              "    border-color: transparent;\n",
              "    border-bottom-color: var(--fill-color);\n",
              "    animation:\n",
              "      spin 1s steps(1) infinite;\n",
              "  }\n",
              "\n",
              "  @keyframes spin {\n",
              "    0% {\n",
              "      border-color: transparent;\n",
              "      border-bottom-color: var(--fill-color);\n",
              "      border-left-color: var(--fill-color);\n",
              "    }\n",
              "    20% {\n",
              "      border-color: transparent;\n",
              "      border-left-color: var(--fill-color);\n",
              "      border-top-color: var(--fill-color);\n",
              "    }\n",
              "    30% {\n",
              "      border-color: transparent;\n",
              "      border-left-color: var(--fill-color);\n",
              "      border-top-color: var(--fill-color);\n",
              "      border-right-color: var(--fill-color);\n",
              "    }\n",
              "    40% {\n",
              "      border-color: transparent;\n",
              "      border-right-color: var(--fill-color);\n",
              "      border-top-color: var(--fill-color);\n",
              "    }\n",
              "    60% {\n",
              "      border-color: transparent;\n",
              "      border-right-color: var(--fill-color);\n",
              "    }\n",
              "    80% {\n",
              "      border-color: transparent;\n",
              "      border-right-color: var(--fill-color);\n",
              "      border-bottom-color: var(--fill-color);\n",
              "    }\n",
              "    90% {\n",
              "      border-color: transparent;\n",
              "      border-bottom-color: var(--fill-color);\n",
              "    }\n",
              "  }\n",
              "</style>\n",
              "\n",
              "  <script>\n",
              "    async function quickchart(key) {\n",
              "      const quickchartButtonEl =\n",
              "        document.querySelector('#' + key + ' button');\n",
              "      quickchartButtonEl.disabled = true;  // To prevent multiple clicks.\n",
              "      quickchartButtonEl.classList.add('colab-df-spinner');\n",
              "      try {\n",
              "        const charts = await google.colab.kernel.invokeFunction(\n",
              "            'suggestCharts', [key], {});\n",
              "      } catch (error) {\n",
              "        console.error('Error during call to suggestCharts:', error);\n",
              "      }\n",
              "      quickchartButtonEl.classList.remove('colab-df-spinner');\n",
              "      quickchartButtonEl.classList.add('colab-df-quickchart-complete');\n",
              "    }\n",
              "    (() => {\n",
              "      let quickchartButtonEl =\n",
              "        document.querySelector('#df-a2898a13-7e4d-4575-8990-3d310427df64 button');\n",
              "      quickchartButtonEl.style.display =\n",
              "        google.colab.kernel.accessAllowed ? 'block' : 'none';\n",
              "    })();\n",
              "  </script>\n",
              "</div>\n",
              "\n",
              "    </div>\n",
              "  </div>\n"
            ],
            "application/vnd.google.colaboratory.intrinsic+json": {
              "type": "dataframe",
              "variable_name": "data"
            }
          },
          "metadata": {},
          "execution_count": 94
        }
      ]
    },
    {
      "cell_type": "markdown",
      "source": [
        "I removed the “Unnamed: 0” column, which was an index column automatically created during file export. It does not provide any useful information for our analysis and is not necessary for answering any of our questions. Removing it also streamlined our dataset for analysis, making it easier to search for data via the “name” column."
      ],
      "metadata": {
        "id": "NfnpcZs9geDf"
      }
    },
    {
      "cell_type": "code",
      "source": [
        "# Drop the 'Unnamed: 0' column if it exists\n",
        "if 'Unnamed: 0' in data.columns:\n",
        "    data_cleaned = data.drop(columns=['Unnamed: 0'])\n",
        "else:\n",
        "    data_cleaned = data.copy()"
      ],
      "metadata": {
        "id": "gl3Cnr6CgYu9"
      },
      "execution_count": 95,
      "outputs": []
    },
    {
      "cell_type": "markdown",
      "source": [
        "Rows with all null values were removed. These rows provide no meaningful information for consumer rating or item price, and would add unnecessary size to the dataset without contributing to the analysis. We also removed the rows with null/empty values for price, as having the price is necessary for answering questions regarding sales trends."
      ],
      "metadata": {
        "id": "1q795pr-3NBy"
      }
    },
    {
      "cell_type": "code",
      "source": [
        "# Drop rows with all null values\n",
        "data_cleaned = data_cleaned.dropna(how='all')\n",
        "\n",
        "# Drop rows without an actual price.\n",
        "data_cleaned = data_cleaned.dropna(subset=['discount_price', 'actual_price'])"
      ],
      "metadata": {
        "id": "0F3uzg2Czd75"
      },
      "execution_count": 96,
      "outputs": []
    },
    {
      "cell_type": "markdown",
      "source": [
        "`Discount_price` and the remaining `actual_price` columns were converted from string format (with currency symbols and commas) to numeric values. The `ratings` and `no_of_ratings` columns were also cleaned and converted to numeric, removing commas and handling missing values.\n",
        "\n",
        "Numeric prices are necessary for performing operations like summing, calculating averages, and identifying the most or least purchased items based on price and discount. By converting them all to a standardised format, it makes it easier for us to conduct analyses. Similarly, numeric ratings allow us to assess the popularity of items within specific categories in a standardised manner.\n",
        "\n",
        "This helps us to perform data analysis for the following questions:\n",
        "- Fitness: Determining the best-selling products based on price and discount.\n",
        "- Travel: Identifying trends in travel-related purchases based on their price.\n",
        "- Movies/Books: Identifying the most popular films and books based on their ratings and sales.\n",
        "- Luxury/Beauty: Assessing luxury and discounted purchases using actual and discount prices.\n",
        "\n",
        "There was an error raised initially due to some values in the numeric columns not containing numerical values. Even with the conversion to numeric, some entries remained. ``errors = 'coerce'`` is used to automatically convert all invalid values to ``NaN`` (https://www.geeksforgeeks.org/python-pandas-to_numeric-method/)."
      ],
      "metadata": {
        "id": "_6bhvOd23ksX"
      }
    },
    {
      "cell_type": "code",
      "source": [
        "# Convert price columns to numeric, strip symbols and commas\n",
        "data_cleaned['discount_price'] = pd.to_numeric(data_cleaned['discount_price'].str.replace('₹', '').str.replace(',', ''), errors='coerce')\n",
        "data_cleaned['actual_price'] = pd.to_numeric(data_cleaned['actual_price'].str.replace('₹', '').str.replace(',', ''), errors='coerce')\n",
        "\n",
        "# Convert ratings and number of ratings to numeric\n",
        "data_cleaned['ratings'] = pd.to_numeric(data_cleaned['ratings'], errors='coerce')\n",
        "data_cleaned['no_of_ratings'] = pd.to_numeric(data_cleaned['no_of_ratings'].str.replace(',', ''), errors='coerce')"
      ],
      "metadata": {
        "id": "Ou7uNcahzl9h"
      },
      "execution_count": 97,
      "outputs": []
    },
    {
      "cell_type": "markdown",
      "source": [
        "To remove null values from our dataset, any empty `no_of_ratings` columns were converted to 0."
      ],
      "metadata": {
        "id": "00gTmIiyXYws"
      }
    },
    {
      "cell_type": "code",
      "source": [
        "# When 'ratings' or 'no_of_ratings' is null, they are replaced with 0\n",
        "data_cleaned['no_of_ratings'] = data_cleaned['no_of_ratings'].fillna(0)"
      ],
      "metadata": {
        "id": "As4NAiLAXPc_"
      },
      "execution_count": 98,
      "outputs": []
    },
    {
      "cell_type": "markdown",
      "source": [
        "Outliers in the `discount_price` column were removed using the IQR (Interquartile Range) method. The lower and upper bounds were calculated based on 1.5 times the IQR https://www.khanacademy.org/math/statistics-probability/summarizing-quantitative-data/box-whisker-plots/a/identifying-outliers-iqr-rule.\n",
        "\n",
        "Outliers in pricing can significantly skew analysis, particularly when analysing sales trends. Removing extreme values will help us focus on the typical price range for products, leading to more accurate insights into best-selling products and popular discounts. Furthermore, when assessing which luxury items or discounted items were the most popular, removing outliers ensures that extreme price points (which may be errors or anomalies) don't distort our results."
      ],
      "metadata": {
        "id": "szXHriv34VbG"
      }
    },
    {
      "cell_type": "code",
      "source": [
        "# Outlier removal using IQR method for prices\n",
        "Q1 = data_cleaned['discount_price'].quantile(0.25)\n",
        "Q3 = data_cleaned['discount_price'].quantile(0.75)\n",
        "IQR = Q3 - Q1\n",
        "\n",
        "# Define lower and upper bounds for outliers\n",
        "lower_bound = Q1 - 1.5 * IQR\n",
        "upper_bound = Q3 + 1.5 * IQR\n",
        "\n",
        "# Removing outliers from the discount_price column\n",
        "data_cleaned = data_cleaned[(data_cleaned['discount_price'] >= lower_bound) & (data_cleaned['discount_price'] <= upper_bound)]"
      ],
      "metadata": {
        "id": "yOQr2qWfz4Nm"
      },
      "execution_count": 99,
      "outputs": []
    },
    {
      "cell_type": "markdown",
      "source": [
        "I removed the “Unnamed: 0” column, which was an index column automatically created during file export. It does not provide any useful information for our analysis and is not necessary for answering any of our questions. Removing it also streamlined our dataset for analysis, making it easier to search for data via the “name” column."
      ],
      "metadata": {
        "id": "2U2eIr__dC47"
      }
    },
    {
      "cell_type": "code",
      "source": [
        "# Save the cleaned dataset\n",
        "cleaned_file_path = '/content/final_cleaned.csv'\n",
        "data_cleaned.to_csv(cleaned_file_path, index=False)"
      ],
      "metadata": {
        "id": "jI8L4B6Iz_P2"
      },
      "execution_count": 100,
      "outputs": []
    },
    {
      "cell_type": "markdown",
      "source": [
        "# Visualisations\n",
        "In the following, we will show the difference in results after cleaning the dataset using visualisations. This is to check how the results vary based on the data cleanign process and identify any potential errors in the cleaning process."
      ],
      "metadata": {
        "id": "E9RRyWkeVfQn"
      }
    },
    {
      "cell_type": "code",
      "source": [
        "import matplotlib.pyplot as plt\n",
        "\n",
        "# Load the old dataset\n",
        "old_data = pd.read_csv(\"cleaned.csv\")\n",
        "\n",
        "# Load the new dataset (cleaned version)\n",
        "new_data = pd.read_csv(\"final_cleaned.csv\")\n",
        "\n",
        "# 'Ratings' was not in numeric for the old dataset as it had not yet been converted to numeric values, unlike the new dataset which had the numbers converted during the data cleaning process. For the purposes of creating the visualisations, old data is converted to numeric.\n",
        "old_data['ratings'] = pd.to_numeric(old_data['ratings'], errors='coerce')\n",
        "old_data['no_of_ratings'] = pd.to_numeric(old_data['no_of_ratings'], errors='coerce')"
      ],
      "metadata": {
        "id": "bh4KvBPtjka0"
      },
      "execution_count": 101,
      "outputs": []
    },
    {
      "cell_type": "markdown",
      "source": [
        "**The Number of Products by Rating in Each Dataset**\n",
        "\n",
        "The following viusalisation will compare how many products there are of each rating in both dataset. This is to show what amount of products were removed in the data cleaning process.\n",
        "\n",
        "The following was used in the data binning process: https://pandas.pydata.org/docs/reference/api/pandas.cut.html\n"
      ],
      "metadata": {
        "id": "w3Ym_l3lkOq6"
      }
    },
    {
      "cell_type": "code",
      "source": [
        "# Define bins for the ratings, including bin edges and labels\n",
        "bins = [0, 1, 2, 3, 4, 5]\n",
        "labels = ['0-0.9', '1-1.9', '2-2.9', '3-3.9', '4-5']\n",
        "\n",
        "# Bin the ratings in both datasets\n",
        "old_data['rating_bins'] = pd.cut(old_data['ratings'], bins=bins, labels=labels)\n",
        "new_data['rating_bins'] = pd.cut(new_data['ratings'], bins=bins, labels=labels)\n",
        "\n",
        "# Count the number of products in each bin for both datasets. The sort function ensures that the bins are in order by label, not by bin size\n",
        "old_ratings_count = old_data['rating_bins'].value_counts(sort=False)\n",
        "new_ratings_count = new_data['rating_bins'].value_counts(sort=False)\n",
        "\n",
        "# Combine the counts into a data frame for comparison\n",
        "ratings_comparison = pd.DataFrame({\n",
        "    'Old Dataset': old_ratings_count,\n",
        "    'Cleaned Dataset': new_ratings_count\n",
        "})\n",
        "\n",
        "# Plot the comparison\n",
        "ratings_comparison.plot(kind='bar', figsize=(10, 6))\n",
        "plt.title('Number of Products by Rating in Old vs Cleaned Datasets')\n",
        "plt.xlabel('Rating Range')\n",
        "plt.ylabel('Number of Products')\n",
        "plt.show()"
      ],
      "metadata": {
        "colab": {
          "base_uri": "https://localhost:8080/",
          "height": 586
        },
        "id": "K6EXP2eHr9uQ",
        "outputId": "04dbfb97-8f30-4d48-a0c9-4f57f38f3bcd"
      },
      "execution_count": 102,
      "outputs": [
        {
          "output_type": "display_data",
          "data": {
            "text/plain": [
              "<Figure size 1000x600 with 1 Axes>"
            ],
            "image/png": "[encoded data removed]"
          },
          "metadata": {}
        }
      ]
    },
    {
      "cell_type": "markdown",
      "source": [
        "As can be seen from the above visualisation, cleaning the dataset reduced the number of products in each rating. Ratings between 3-3.9 and 4-5 reduced the most. However, this can be attributed to there being more ratings overall in these two categories, causing there to be more entries available to cut.\n",
        "\n",
        "This indicates that cleaning the dataset, e.g. removing products with empty values, did indeed remove items in a way that does not appear abnormal. This would have been identified by the cleaned dataset having more entries for some ratings than the old dataset, indicating that there is some issue with the counts in the cleaning process or values for items were changed.\n",
        "\n",
        "The average rating is shown below, with the mean going down by 0.03 as a result of the cleaning process."
      ],
      "metadata": {
        "id": "ex_g_FAGz7Ks"
      }
    },
    {
      "cell_type": "code",
      "source": [
        "# Calculate average rating for both datasets\n",
        "old_avg_rating = old_data['ratings'].mean()\n",
        "new_avg_rating = new_data['ratings'].mean()\n",
        "\n",
        "# Print the results\n",
        "print(f\"Average rating in old dataset: {old_avg_rating:.2f}\")\n",
        "print(f\"Average rating in cleaned dataset: {new_avg_rating:.2f}\")"
      ],
      "metadata": {
        "colab": {
          "base_uri": "https://localhost:8080/"
        },
        "id": "ZFrOM46I3k2b",
        "outputId": "9e5b68cc-001d-4d1f-e01c-a71bc91efa21"
      },
      "execution_count": 103,
      "outputs": [
        {
          "output_type": "stream",
          "name": "stdout",
          "text": [
            "Average rating in old dataset: 3.83\n",
            "Average rating in cleaned dataset: 3.80\n"
          ]
        }
      ]
    },
    {
      "cell_type": "markdown",
      "source": [
        "**The Distribution of Price Before and After Cleaning**\n",
        "\n",
        "The following distribution will show how the price of products changed in both datasets. This was computed for `actual_price` and not `discount_price` as not all entries have a value for their discounted price, but every entry in the cleaned dataset has a value for their actual price.\n",
        "\n",
        "The following will plot the total frequency of certain price points in different ranges. This means each peak represents a number of items that cost a certain price value along the x-axis."
      ],
      "metadata": {
        "id": "inKQX6m55EW-"
      }
    },
    {
      "cell_type": "code",
      "source": [
        "# It was necessary for this part of the data cleaning to be computed for the old data, as it was not possible to plot non-numeric values or values with currency/commas.\n",
        "old_data['actual_price'] = pd.to_numeric(old_data['actual_price'].str.replace('₹', '').str.replace(',', ''), errors='coerce')"
      ],
      "metadata": {
        "id": "mJ-Vm0Du_IK_"
      },
      "execution_count": 104,
      "outputs": []
    },
    {
      "cell_type": "code",
      "source": [
        "import numpy as np\n",
        "\n",
        "# Products with zero price were excluded and an upper limit was set for histogram readability. The highest points are anomalously high (100000 rs+) compared to the lower values.\n",
        "# So the distribution is plotted for values less than 50000 rs, with a dropoff still being visible on the resulting histogram.\n",
        "old_filtered = old_data[(old_data['actual_price'] > 0) & (old_data['actual_price'] < 20000)]\n",
        "new_filtered = new_data[(new_data['actual_price'] > 0) & (new_data['actual_price'] < 20000)]\n",
        "\n",
        "# For readability, 50 bins are generated for values along the x-axis between 0 and 20,000. Beyond 20,000, there is a steep drop-off which makes it harder to read the difference in price distribution between both datasets.\n",
        "bins = np.linspace(0, 20000, 50)\n",
        "\n",
        "# Calculate the frequency (histogram) for the old and new data's x and y points. https://numpy.org/doc/stable/reference/generated/numpy.histogram.html\n",
        "old_hist, bin_edges = np.histogram(old_filtered['actual_price'], bins=bins)\n",
        "new_hist, bin_edges = np.histogram(new_filtered['actual_price'], bins=bins)\n",
        "\n",
        "# Plot the line plot for both datasets\n",
        "plt.figure(figsize=(12, 6))\n",
        "\n",
        "# Calculate bin centers for easier plotting https://matplotlib.org/1.2.1/examples/api/histogram_demo.html\n",
        "bin_centers = (bin_edges[:-1] + bin_edges[1:]) / 2\n",
        "\n",
        "# Plot line plot\n",
        "plt.plot(bin_centers, old_hist, label='Old Dataset', marker='o')\n",
        "plt.plot(bin_centers, new_hist, label='Cleaned Dataset', marker='o')\n",
        "\n",
        "# Add titles and labels\n",
        "plt.title('Price Distribution Before and After Data Cleaning')\n",
        "plt.xlabel('Price')\n",
        "plt.ylabel('Frequency')\n",
        "plt.legend()\n",
        "\n",
        "# Show plot\n",
        "plt.show()\n"
      ],
      "metadata": {
        "colab": {
          "base_uri": "https://localhost:8080/",
          "height": 564
        },
        "id": "I7DsiTsG6UPJ",
        "outputId": "9dba849d-5faf-4366-fa82-b93a16b75060"
      },
      "execution_count": 105,
      "outputs": [
        {
          "output_type": "display_data",
          "data": {
            "text/plain": [
              "<Figure size 1200x600 with 1 Axes>"
            ],
            "image/png": "[encoded data removed]"
          },
          "metadata": {}
        }
      ]
    },
    {
      "cell_type": "markdown",
      "source": [
        "In the plot, the number of items priced at ₹10,000 and below has decreased visibly more in the cleaned dataset compared to the old dataset. This suggests that many of the items removed during the cleaning process, whether due to being outliers or missing price values, were more commonly found among lower-priced products. Since the old dataset had a higher concentration of lower-priced items, a larger portion of the removed items fell within this price range, resulting in a noticeable reduction in that part of the distribution."
      ],
      "metadata": {
        "id": "BnJOeCw8MCQ0"
      }
    },
    {
      "cell_type": "code",
      "source": [
        "# Calculate average rating for both datasets\n",
        "old_avg_price = old_data['actual_price'].mean()\n",
        "new_avg_price = new_data['actual_price'].mean()\n",
        "\n",
        "# Print the results\n",
        "print(f\"Average price in old dataset: ₹{old_avg_price:.2f}\")\n",
        "print(f\"Average price in cleaned dataset: ₹{new_avg_price:.2f}\")"
      ],
      "metadata": {
        "colab": {
          "base_uri": "https://localhost:8080/"
        },
        "id": "eQriuXaaAsN0",
        "outputId": "88467812-58fa-4410-b8aa-9cb5679ef3a9"
      },
      "execution_count": 106,
      "outputs": [
        {
          "output_type": "stream",
          "name": "stdout",
          "text": [
            "Average price in old dataset: ₹23111.28\n",
            "Average price in cleaned dataset: ₹25012.88\n"
          ]
        }
      ]
    },
    {
      "cell_type": "markdown",
      "source": [
        "The average price increasing also implies that most unclean data was in the low price-range. This can be verified by the distribution of the plot at around ₹2500 visibly decreasing more-so than at beyond ₹12500 where the difference tapers off."
      ],
      "metadata": {
        "id": "p1JRAS4IEDAh"
      }
    }
  ]
}